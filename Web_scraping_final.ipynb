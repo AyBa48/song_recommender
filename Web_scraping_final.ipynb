{
 "cells": [
  {
   "cell_type": "raw",
   "id": "6abbe1b7-a21a-4671-869a-f937e066f834",
   "metadata": {},
   "source": [
    "Project Description \n",
    "In this projecthttps://www.lyrics.com, we will build a text classification model on song lyrics. \n",
    "The task is to predict the artist from a piece of text"
   ]
  },
  {
   "cell_type": "markdown",
   "id": "cba4ce46-cdd9-46da-8b17-df71ffc1a14c",
   "metadata": {},
   "source": [
    "\n",
    "<img src=https://global-uploads.webflow.com/636bdbebfc681f083e923f81/63861eaf1256c85ceff3c32c_6138752e55f82a0d6b6902cc_Parsing%2520definition-min.jpeg width=\"800\" height=\"350\">"
   ]
  },
  {
   "cell_type": "raw",
   "id": "ac790db8-2392-4378-a984-f19c95ea33fc",
   "metadata": {},
   "source": [
    "Computer :\n",
    "        Parser\n",
    "    - Tokenization: break the code into tokens, which are the smallest units of code that have meaning\n",
    "    - Syntactic analysis: check if token follow the rules of the programming language's syntax\n",
    "    - Semantic analysis: Relationships between the tokens and determining what the code is intended to do\n",
    "    "
   ]
  },
  {
   "cell_type": "markdown",
   "id": "85faa235-86ff-46b8-b8c1-8bae5f9453f5",
   "metadata": {},
   "source": [
    "<img src=https://tomassetti.me/wp-content/uploads/2017/02/lexer-parser-center-1030x187.png width=\"800\" height=\"450\">  "
   ]
  },
  {
   "cell_type": "markdown",
   "id": "50944366-7c1f-494f-a86b-935b625dc9fc",
   "metadata": {},
   "source": [
    "<img src=https://vaclavkosar.com/images/transformer-tokenization-and-embeddings.drawio.svg width=\"400\" height=\"150\">    "
   ]
  },
  {
   "cell_type": "code",
   "execution_count": null,
   "id": "4780ee48-0c0a-42d4-b217-bfb82e755845",
   "metadata": {},
   "outputs": [],
   "source": []
  },
  {
   "cell_type": "markdown",
   "id": "40be3655-b557-43b7-9ed4-d3cd0b8a26ff",
   "metadata": {},
   "source": [
    "# Web Scraping"
   ]
  },
  {
   "cell_type": "code",
   "execution_count": 1,
   "id": "0565305d-ab70-46bb-91db-1d3b9c3dbee0",
   "metadata": {},
   "outputs": [],
   "source": [
    "import requests\n",
    "import pandas as pd"
   ]
  },
  {
   "cell_type": "code",
   "execution_count": 2,
   "id": "151bc0f7-73eb-440b-958d-1d6e63ee29fc",
   "metadata": {},
   "outputs": [],
   "source": [
    "import time\n",
    "import numpy as np\n",
    "import os\n",
    "from bs4 import BeautifulSoup\n",
    "import re"
   ]
  },
  {
   "cell_type": "code",
   "execution_count": 3,
   "id": "163d477c-bf7e-490b-ae16-12ff60b72ee4",
   "metadata": {},
   "outputs": [
    {
     "name": "stdout",
     "output_type": "stream",
     "text": [
      "cores available: 8 \n",
      "cores to be used: 6\n"
     ]
    }
   ],
   "source": [
    "# CPU USAGE\n",
    "\n",
    "import multiprocessing\n",
    "\n",
    "num_cores = multiprocessing.cpu_count()\n",
    "cores_you_need_to_be_free = 2\n",
    "cores_to_use = num_cores - cores_you_need_to_be_free\n",
    "print('cores available:', num_cores,\n",
    "      '\\ncores to be used:', cores_to_use\n",
    "     )"
   ]
  },
  {
   "cell_type": "markdown",
   "id": "ebc43672-11fb-4755-82b3-401ef026bc76",
   "metadata": {},
   "source": [
    "### Define a function"
   ]
  },
  {
   "cell_type": "code",
   "execution_count": 4,
   "id": "9e68a082-5d94-4d3d-b206-a6334b83f66c",
   "metadata": {},
   "outputs": [],
   "source": [
    "def extract_artist (url):\n",
    "    \n",
    "    \"\"\" function return artist name and links to download lyrics \"\"\"\n",
    "    links=[]\n",
    "    artist_list = []\n",
    "    link = url\n",
    "    headers = {'User-agent': 'Mozilla/5.0 (X11; Linux i686; rv:2.0b10) Gecko/20100101 Firefox/4.0b10'}\n",
    "    \n",
    "# extract artist page and store in txt file \n",
    "\n",
    "    if os.path.exists('html_data/artist.txt'):\n",
    "        os.remove('html_data/artist.txt')\n",
    "        \n",
    "    response =requests.get(url=link, headers=headers)\n",
    "    if response != 200:\n",
    "        print(response.status_code)\n",
    "    with open('html_data/artist.txt', 'a') as file:\n",
    "        file.write(response.text)\n",
    "    time.sleep(2)\n",
    "            \n",
    "# open the file created and sparse data with beautiful soup\n",
    "\n",
    "    with open ('html_data/artist.txt') as file:\n",
    "        artist_soup = BeautifulSoup(file, 'html.parser')\n",
    "        \n",
    "# Extract link to lyrics\n",
    "    if links:\n",
    "        links=[]\n",
    "        print('link list has been emptied')\n",
    "    else:\n",
    "        print('start empty list to store links to songs')\n",
    "    \n",
    "    for lk in artist_soup.body.find_all('strong'): ## pay attention html source code\n",
    "        if lk.a is not None:\n",
    "            links.append(lk.a['href'])\n",
    "            \n",
    "# Extract artist \n",
    "    if artist_list:\n",
    "        artist_list = []\n",
    "        print('artist list has been emptied')\n",
    "    else:\n",
    "        print('start empty list to store artist')\n",
    "    for artist in artist_soup.find_all(class_=\"artist\"):\n",
    "        artist_list.append(artist.text)\n",
    "            \n",
    "# return artist\n",
    "    return artist_list[0], links\n",
    "    "
   ]
  },
  {
   "cell_type": "code",
   "execution_count": 5,
   "id": "c35a3125-9ddc-4b69-855a-3dcdee791ca9",
   "metadata": {},
   "outputs": [],
   "source": [
    "def extract_lyrics (link):\n",
    "    \n",
    "    \"\"\" \n",
    "    function return the lyrics of the artists \"\"\"\n",
    "    \n",
    "    URL= 'https://www.lyrics.com'\n",
    "    links = link\n",
    "    headers = {'User-agent': 'Mozilla/5.0 (X11; Linux i686; rv:2.0b10) Gecko/20100101 Firefox/4.0b10'}\n",
    "    \n",
    "   #check if file exist - if yes  suppress it \n",
    "\n",
    "    if os.path.exists('html_data/songs_html.txt'):\n",
    "        os.remove('html_data/songs_html.txt')\n",
    "        \n",
    "     # download lyrics \n",
    "    \n",
    "    for i in range(0,len(links)):\n",
    "        \n",
    "        if len(links)<=100:\n",
    "            response =requests.get(url=URL+links[i], headers=headers)\n",
    "            if response.status_code != 200:\n",
    "                print (response.status_code)\n",
    "            with open('html_data/songs_html.txt', 'a') as file:\n",
    "                file.write(response.text)\n",
    "            time.sleep(2)\n",
    "        else:\n",
    "            if i <= 100:\n",
    "                response =requests.get(url=URL+links[i], headers=headers)\n",
    "                if response.status_code != 200:\n",
    "                    print(response.status_code)\n",
    "                with open('html_data/songs_html.txt', 'a') as file:\n",
    "                    file.write(response.text)\n",
    "                time.sleep(2)\n",
    "                \n",
    "                \n",
    "    # read lyrics with Beautiful soup \n",
    "    \n",
    "    with open ('html_data/songs_html.txt') as file:\n",
    "        song_soup = BeautifulSoup(file, 'html.parser')\n",
    "        \n",
    "    # Extract lyrics in a list \n",
    "    lyrics=[]\n",
    "    for song in song_soup.find_all('pre', id='lyric-body-text'): ## pay attention html source code\n",
    "        #lyric = song.find(\"pre\").get_text()\n",
    "        n_jobs=cores_to_use\n",
    "        lyrics.append(song.text)\n",
    "        \n",
    "    return lyrics\n",
    "    "
   ]
  },
  {
   "cell_type": "code",
   "execution_count": 6,
   "id": "bd823d15-eb6e-4abb-b015-7d2cccedd0cf",
   "metadata": {},
   "outputs": [],
   "source": [
    "def create_dataframe(artist, lyrics, df):\n",
    "    \n",
    "    \"\"\" Update dataframe with artist name and Lyrics \n",
    "         Return dataframe \"\"\"\n",
    "        \n",
    "    da = pd.DataFrame({'artist':artist, 'lyrics':lyrics})\n",
    "       \n",
    "    df = pd.concat([da, df], ignore_index=True)\n",
    "    \n",
    "    return df"
   ]
  },
  {
   "cell_type": "code",
   "execution_count": 7,
   "id": "acda50e1-38ff-42b1-9e8e-ce60339158d9",
   "metadata": {},
   "outputs": [],
   "source": [
    "def extract_artist_lyrics(url_list):\n",
    "    \"\"\" take list of artist webpage links \n",
    "    and return a dataframe with artist name and \n",
    "    lyrics\n",
    "    \n",
    "    Raise an error if argument is not a list \"\"\"\n",
    "    \n",
    "    data = pd.DataFrame(columns=['artist', 'lyrics'])\n",
    "    dat_link = pd.DataFrame(columns=['artist', 'lyrics'])\n",
    "    \n",
    "    if not isinstance(url_list, list):\n",
    "        raise TypeError(\"Argument must be a list.\")\n",
    "        \n",
    "    else:\n",
    "        \n",
    "        for link in (url_list):\n",
    "            # --- extract the artist name, \n",
    "            # --- and link to lyrics \n",
    "            artist , lk_lyrics = extract_artist (link)\n",
    "            # --- extract lyrics \n",
    "            lyric = extract_lyrics (lk_lyrics)\n",
    "            # --- update dataframe with name of artist and lyrics\n",
    "            data = create_dataframe(artist, lyric,  data)\n",
    "            dat_link = create_dataframe(artist, lk_lyrics, dat_link)\n",
    "            \n",
    "        \n",
    "    return data, dat_link\n",
    "        "
   ]
  },
  {
   "cell_type": "markdown",
   "id": "30a8142e-2c45-4808-b814-c43ba747d6a1",
   "metadata": {
    "tags": []
   },
   "source": [
    "### Execute function - store data in DataFrame"
   ]
  },
  {
   "cell_type": "code",
   "execution_count": 8,
   "id": "36cf99e8-9afd-4e6c-a874-e2d074029e57",
   "metadata": {},
   "outputs": [],
   "source": [
    "url = ['https://www.lyrics.com/artist/Imagine-Dragons/1184089','https://www.lyrics.com/artist/Bob-Marley/2907',\n",
    "        'https://www.lyrics.com/artist/Linkin-Park/447095']"
   ]
  },
  {
   "cell_type": "code",
   "execution_count": 9,
   "id": "8f9309ad-2267-4e16-9aa5-2559a523a206",
   "metadata": {},
   "outputs": [
    {
     "name": "stdout",
     "output_type": "stream",
     "text": [
      "200\n",
      "start empty list to store links to songs\n",
      "start empty list to store artist\n",
      "200\n",
      "start empty list to store links to songs\n",
      "start empty list to store artist\n",
      "200\n",
      "start empty list to store links to songs\n",
      "start empty list to store artist\n"
     ]
    }
   ],
   "source": [
    "data, lyric_link = extract_artist_lyrics(url)"
   ]
  },
  {
   "cell_type": "code",
   "execution_count": 10,
   "id": "54b3bd6c-b716-43f6-93b7-40c4f3272f4d",
   "metadata": {},
   "outputs": [
    {
     "data": {
      "text/plain": [
       "289"
      ]
     },
     "execution_count": 10,
     "metadata": {},
     "output_type": "execute_result"
    }
   ],
   "source": [
    "len(data)"
   ]
  },
  {
   "cell_type": "code",
   "execution_count": 11,
   "id": "93e1fea3-ace6-404a-a8c0-ddca9900c277",
   "metadata": {},
   "outputs": [
    {
     "data": {
      "text/plain": [
       "artist         \n",
       "Imagine Dragons    99\n",
       "Bob Marley         96\n",
       "Linkin Park        94\n",
       "dtype: int64"
      ]
     },
     "execution_count": 11,
     "metadata": {},
     "output_type": "execute_result"
    }
   ],
   "source": [
    "data[['artist']].value_counts()\n"
   ]
  },
  {
   "cell_type": "code",
   "execution_count": 12,
   "id": "2d963ec3-d1e7-4799-8fd5-532ae10e1d64",
   "metadata": {},
   "outputs": [],
   "source": [
    "#len(data[['lyrics']])#.value_counts()"
   ]
  },
  {
   "cell_type": "code",
   "execution_count": 13,
   "id": "5e712c15-aa4c-4bbe-9ed3-a4e816f2dd9a",
   "metadata": {},
   "outputs": [],
   "source": [
    "data.to_csv('/home/ayouba/spiced/nigela-network-student-code/lyrics.csv', index = False)"
   ]
  },
  {
   "cell_type": "code",
   "execution_count": 14,
   "id": "c614ceb7-0e8c-454c-8701-d09f5194aeb7",
   "metadata": {},
   "outputs": [],
   "source": [
    "lyric_link.to_csv('/home/ayouba/spiced/nigela-network-student-code/lyric_link.csv', index = False)"
   ]
  },
  {
   "cell_type": "code",
   "execution_count": 15,
   "id": "c62b54b4-2ed6-44f3-b6d6-7fb1fab890e6",
   "metadata": {},
   "outputs": [
    {
     "data": {
      "text/html": [
       "<div>\n",
       "<style scoped>\n",
       "    .dataframe tbody tr th:only-of-type {\n",
       "        vertical-align: middle;\n",
       "    }\n",
       "\n",
       "    .dataframe tbody tr th {\n",
       "        vertical-align: top;\n",
       "    }\n",
       "\n",
       "    .dataframe thead th {\n",
       "        text-align: right;\n",
       "    }\n",
       "</style>\n",
       "<table border=\"1\" class=\"dataframe\">\n",
       "  <thead>\n",
       "    <tr style=\"text-align: right;\">\n",
       "      <th></th>\n",
       "      <th>artist</th>\n",
       "      <th>lyrics</th>\n",
       "    </tr>\n",
       "  </thead>\n",
       "  <tbody>\n",
       "    <tr>\n",
       "      <th>0</th>\n",
       "      <td>Linkin Park</td>\n",
       "      <td>/lyric/36341863/Linkin+Park/In+the+End</td>\n",
       "    </tr>\n",
       "    <tr>\n",
       "      <th>1</th>\n",
       "      <td>Linkin Park</td>\n",
       "      <td>/lyric/36341864/Linkin+Park/Numb</td>\n",
       "    </tr>\n",
       "    <tr>\n",
       "      <th>2</th>\n",
       "      <td>Linkin Park</td>\n",
       "      <td>/lyric/36509769/Linkin+Park/Runaway</td>\n",
       "    </tr>\n",
       "    <tr>\n",
       "      <th>3</th>\n",
       "      <td>Linkin Park</td>\n",
       "      <td>/lyric/36509772/Linkin+Park/Papercut</td>\n",
       "    </tr>\n",
       "    <tr>\n",
       "      <th>4</th>\n",
       "      <td>Linkin Park</td>\n",
       "      <td>/lyric/36509780/Linkin+Park/Points+of+Authority</td>\n",
       "    </tr>\n",
       "  </tbody>\n",
       "</table>\n",
       "</div>"
      ],
      "text/plain": [
       "        artist                                           lyrics\n",
       "0  Linkin Park           /lyric/36341863/Linkin+Park/In+the+End\n",
       "1  Linkin Park                 /lyric/36341864/Linkin+Park/Numb\n",
       "2  Linkin Park              /lyric/36509769/Linkin+Park/Runaway\n",
       "3  Linkin Park             /lyric/36509772/Linkin+Park/Papercut\n",
       "4  Linkin Park  /lyric/36509780/Linkin+Park/Points+of+Authority"
      ]
     },
     "execution_count": 15,
     "metadata": {},
     "output_type": "execute_result"
    }
   ],
   "source": [
    "lyric_link.head()"
   ]
  },
  {
   "cell_type": "code",
   "execution_count": null,
   "id": "8eb23586-5ce7-4a38-9d05-01d835b20c81",
   "metadata": {},
   "outputs": [],
   "source": []
  },
  {
   "cell_type": "markdown",
   "id": "ac5767db-e6f8-4f6c-b040-fe9a44f5380f",
   "metadata": {},
   "source": [
    "### Word Classification -- TfidfVectorizer"
   ]
  },
  {
   "cell_type": "code",
   "execution_count": 16,
   "id": "b7f201c0-2cd3-4b59-8eaa-e4686f5e43e5",
   "metadata": {},
   "outputs": [],
   "source": [
    "from sklearn.feature_extraction.text import TfidfVectorizer\n",
    "from sklearn.pipeline import Pipeline\n",
    "import numpy as np\n",
    "import pandas as pd\n",
    "from sklearn.linear_model import LogisticRegression\n",
    "from sklearn.model_selection import train_test_split\n",
    "from sklearn.naive_bayes import MultinomialNB\n",
    "from sklearn.model_selection import GridSearchCV\n",
    "from sklearn.metrics import accuracy_score"
   ]
  },
  {
   "cell_type": "code",
   "execution_count": 17,
   "id": "c34064c0-aab8-422e-827c-4f089e1181fb",
   "metadata": {},
   "outputs": [],
   "source": [
    "data = pd.read_csv('~/spiced/nigela-network-student-code/lyrics.csv')"
   ]
  },
  {
   "cell_type": "code",
   "execution_count": 18,
   "id": "ef3f0feb-b243-4f1b-8034-2a99c6cf553a",
   "metadata": {},
   "outputs": [
    {
     "data": {
      "text/html": [
       "<div>\n",
       "<style scoped>\n",
       "    .dataframe tbody tr th:only-of-type {\n",
       "        vertical-align: middle;\n",
       "    }\n",
       "\n",
       "    .dataframe tbody tr th {\n",
       "        vertical-align: top;\n",
       "    }\n",
       "\n",
       "    .dataframe thead th {\n",
       "        text-align: right;\n",
       "    }\n",
       "</style>\n",
       "<table border=\"1\" class=\"dataframe\">\n",
       "  <thead>\n",
       "    <tr style=\"text-align: right;\">\n",
       "      <th></th>\n",
       "      <th>artist</th>\n",
       "      <th>lyrics</th>\n",
       "    </tr>\n",
       "  </thead>\n",
       "  <tbody>\n",
       "    <tr>\n",
       "      <th>0</th>\n",
       "      <td>Linkin Park</td>\n",
       "      <td>It starts with\\n\\nOne thing I don't know why\\n...</td>\n",
       "    </tr>\n",
       "    <tr>\n",
       "      <th>1</th>\n",
       "      <td>Linkin Park</td>\n",
       "      <td>I'm tired of being what you want me to be\\nFee...</td>\n",
       "    </tr>\n",
       "    <tr>\n",
       "      <th>2</th>\n",
       "      <td>Linkin Park</td>\n",
       "      <td>Graffiti decorations\\nUnder the sky of dust\\nA...</td>\n",
       "    </tr>\n",
       "    <tr>\n",
       "      <th>3</th>\n",
       "      <td>Linkin Park</td>\n",
       "      <td>Why does it feel like night today? \\nSomething...</td>\n",
       "    </tr>\n",
       "    <tr>\n",
       "      <th>4</th>\n",
       "      <td>Linkin Park</td>\n",
       "      <td>Forfeit the game\\nBefore somebody else\\nTakes ...</td>\n",
       "    </tr>\n",
       "  </tbody>\n",
       "</table>\n",
       "</div>"
      ],
      "text/plain": [
       "        artist                                             lyrics\n",
       "0  Linkin Park  It starts with\\n\\nOne thing I don't know why\\n...\n",
       "1  Linkin Park  I'm tired of being what you want me to be\\nFee...\n",
       "2  Linkin Park  Graffiti decorations\\nUnder the sky of dust\\nA...\n",
       "3  Linkin Park  Why does it feel like night today? \\nSomething...\n",
       "4  Linkin Park  Forfeit the game\\nBefore somebody else\\nTakes ..."
      ]
     },
     "execution_count": 18,
     "metadata": {},
     "output_type": "execute_result"
    }
   ],
   "source": [
    "data.head()"
   ]
  },
  {
   "cell_type": "code",
   "execution_count": 19,
   "id": "a141200e-a4d7-41ba-a7fb-cb9451daa7e9",
   "metadata": {},
   "outputs": [],
   "source": [
    "## Define corpus and y"
   ]
  },
  {
   "cell_type": "code",
   "execution_count": 76,
   "id": "acd084de-9708-4041-a47f-3ee998beae4e",
   "metadata": {},
   "outputs": [],
   "source": [
    "corpus = data['lyrics']\n",
    "y = (['Linkin Park']* len(data.loc[data['artist'] == 'Linkin Park'])) + (['Bob Marley']* len(data.loc[data['artist'] == 'Bob Marley']))  + (['Imagine Dragons']* len(data.loc[data['artist']  == 'Imagine Dragons']))  "
   ]
  },
  {
   "cell_type": "code",
   "execution_count": 77,
   "id": "920bad83-c05a-4e42-aad0-f0092b31f3b2",
   "metadata": {},
   "outputs": [
    {
     "data": {
      "text/plain": [
       "289"
      ]
     },
     "execution_count": 77,
     "metadata": {},
     "output_type": "execute_result"
    }
   ],
   "source": [
    "len(y)"
   ]
  },
  {
   "cell_type": "code",
   "execution_count": 78,
   "id": "e86eee15-1949-44ab-96dd-8d488aebc7a5",
   "metadata": {},
   "outputs": [],
   "source": [
    "#corpus"
   ]
  },
  {
   "cell_type": "code",
   "execution_count": 79,
   "id": "6abc8305-34e7-4e3f-8101-a6276aa130be",
   "metadata": {},
   "outputs": [],
   "source": [
    "#Split data"
   ]
  },
  {
   "cell_type": "code",
   "execution_count": 80,
   "id": "5064730e-e5bd-4189-a771-91e1d5fafca8",
   "metadata": {},
   "outputs": [],
   "source": [
    "X_train, X_test, y_train, y_test = train_test_split(corpus, y, random_state = 42)"
   ]
  },
  {
   "cell_type": "code",
   "execution_count": 81,
   "id": "09b7f7a2-9d74-47cb-93fb-8ca956507b6d",
   "metadata": {},
   "outputs": [],
   "source": [
    "# use grid search to find besst parameter for alpha "
   ]
  },
  {
   "cell_type": "raw",
   "id": "47681d80-dcd5-4062-9924-b6745d435df9",
   "metadata": {},
   "source": [
    "# define range of alpha value\n",
    "alpha_range = np.logspace(-4, 1)"
   ]
  },
  {
   "cell_type": "code",
   "execution_count": 82,
   "id": "8715f1ca-bd4c-49e6-9da3-df0e7b52b8ba",
   "metadata": {},
   "outputs": [],
   "source": [
    "#alpha_range"
   ]
  },
  {
   "cell_type": "raw",
   "id": "42938986-8229-4723-b3c3-e69b8f0fda32",
   "metadata": {},
   "source": [
    "param_grid = {'alpha': alpha_range}"
   ]
  },
  {
   "cell_type": "raw",
   "id": "54acdfc6-9c50-4def-a468-7f61821e6079",
   "metadata": {},
   "source": [
    "grid_cv = GridSearchCV(MultinomialNB(), param_grid, cv=5, scoring = 'accuracy')"
   ]
  },
  {
   "cell_type": "raw",
   "id": "10c1c931-dcf9-4cce-8fc3-65464b304310",
   "metadata": {},
   "source": [
    "grid_cv.fit(X_train, y_train)"
   ]
  },
  {
   "cell_type": "raw",
   "id": "9ee16fed-1010-4626-8497-9537f6ea542d",
   "metadata": {},
   "source": [
    "## best alpha value\n",
    "alpha = grid.best_params['alpha']"
   ]
  },
  {
   "cell_type": "code",
   "execution_count": 83,
   "id": "6ff44201-7c4e-425b-b2cb-bab1c8cbb8ee",
   "metadata": {},
   "outputs": [],
   "source": [
    "pipe = Pipeline ([\n",
    "    ('vectorizer', TfidfVectorizer(stop_words=\"english\")), # do tokenisation\n",
    "    ('model', GridSearchCV(MultinomialNB(), param_grid = ({'alpha': np.logspace(-4, 1)}), cv=5, scoring = 'accuracy'))  # model may be replace by Logistic Regression\n",
    "]\n",
    ")"
   ]
  },
  {
   "cell_type": "code",
   "execution_count": 84,
   "id": "2600349a-c9da-4fe3-9ce2-b185267418b3",
   "metadata": {},
   "outputs": [
    {
     "data": {
      "text/html": [
       "<style>#sk-container-id-2 {color: black;background-color: white;}#sk-container-id-2 pre{padding: 0;}#sk-container-id-2 div.sk-toggleable {background-color: white;}#sk-container-id-2 label.sk-toggleable__label {cursor: pointer;display: block;width: 100%;margin-bottom: 0;padding: 0.3em;box-sizing: border-box;text-align: center;}#sk-container-id-2 label.sk-toggleable__label-arrow:before {content: \"▸\";float: left;margin-right: 0.25em;color: #696969;}#sk-container-id-2 label.sk-toggleable__label-arrow:hover:before {color: black;}#sk-container-id-2 div.sk-estimator:hover label.sk-toggleable__label-arrow:before {color: black;}#sk-container-id-2 div.sk-toggleable__content {max-height: 0;max-width: 0;overflow: hidden;text-align: left;background-color: #f0f8ff;}#sk-container-id-2 div.sk-toggleable__content pre {margin: 0.2em;color: black;border-radius: 0.25em;background-color: #f0f8ff;}#sk-container-id-2 input.sk-toggleable__control:checked~div.sk-toggleable__content {max-height: 200px;max-width: 100%;overflow: auto;}#sk-container-id-2 input.sk-toggleable__control:checked~label.sk-toggleable__label-arrow:before {content: \"▾\";}#sk-container-id-2 div.sk-estimator input.sk-toggleable__control:checked~label.sk-toggleable__label {background-color: #d4ebff;}#sk-container-id-2 div.sk-label input.sk-toggleable__control:checked~label.sk-toggleable__label {background-color: #d4ebff;}#sk-container-id-2 input.sk-hidden--visually {border: 0;clip: rect(1px 1px 1px 1px);clip: rect(1px, 1px, 1px, 1px);height: 1px;margin: -1px;overflow: hidden;padding: 0;position: absolute;width: 1px;}#sk-container-id-2 div.sk-estimator {font-family: monospace;background-color: #f0f8ff;border: 1px dotted black;border-radius: 0.25em;box-sizing: border-box;margin-bottom: 0.5em;}#sk-container-id-2 div.sk-estimator:hover {background-color: #d4ebff;}#sk-container-id-2 div.sk-parallel-item::after {content: \"\";width: 100%;border-bottom: 1px solid gray;flex-grow: 1;}#sk-container-id-2 div.sk-label:hover label.sk-toggleable__label {background-color: #d4ebff;}#sk-container-id-2 div.sk-serial::before {content: \"\";position: absolute;border-left: 1px solid gray;box-sizing: border-box;top: 0;bottom: 0;left: 50%;z-index: 0;}#sk-container-id-2 div.sk-serial {display: flex;flex-direction: column;align-items: center;background-color: white;padding-right: 0.2em;padding-left: 0.2em;position: relative;}#sk-container-id-2 div.sk-item {position: relative;z-index: 1;}#sk-container-id-2 div.sk-parallel {display: flex;align-items: stretch;justify-content: center;background-color: white;position: relative;}#sk-container-id-2 div.sk-item::before, #sk-container-id-2 div.sk-parallel-item::before {content: \"\";position: absolute;border-left: 1px solid gray;box-sizing: border-box;top: 0;bottom: 0;left: 50%;z-index: -1;}#sk-container-id-2 div.sk-parallel-item {display: flex;flex-direction: column;z-index: 1;position: relative;background-color: white;}#sk-container-id-2 div.sk-parallel-item:first-child::after {align-self: flex-end;width: 50%;}#sk-container-id-2 div.sk-parallel-item:last-child::after {align-self: flex-start;width: 50%;}#sk-container-id-2 div.sk-parallel-item:only-child::after {width: 0;}#sk-container-id-2 div.sk-dashed-wrapped {border: 1px dashed gray;margin: 0 0.4em 0.5em 0.4em;box-sizing: border-box;padding-bottom: 0.4em;background-color: white;}#sk-container-id-2 div.sk-label label {font-family: monospace;font-weight: bold;display: inline-block;line-height: 1.2em;}#sk-container-id-2 div.sk-label-container {text-align: center;}#sk-container-id-2 div.sk-container {/* jupyter's `normalize.less` sets `[hidden] { display: none; }` but bootstrap.min.css set `[hidden] { display: none !important; }` so we also need the `!important` here to be able to override the default hidden behavior on the sphinx rendered scikit-learn.org. See: https://github.com/scikit-learn/scikit-learn/issues/21755 */display: inline-block !important;position: relative;}#sk-container-id-2 div.sk-text-repr-fallback {display: none;}</style><div id=\"sk-container-id-2\" class=\"sk-top-container\"><div class=\"sk-text-repr-fallback\"><pre>Pipeline(steps=[(&#x27;vectorizer&#x27;, TfidfVectorizer(stop_words=&#x27;english&#x27;)),\n",
       "                (&#x27;model&#x27;,\n",
       "                 GridSearchCV(cv=5, estimator=MultinomialNB(),\n",
       "                              param_grid={&#x27;alpha&#x27;: array([1.00000000e-04, 1.26485522e-04, 1.59985872e-04, 2.02358965e-04,\n",
       "       2.55954792e-04, 3.23745754e-04, 4.09491506e-04, 5.17947468e-04,\n",
       "       6.55128557e-04, 8.28642773e-04, 1.04811313e-03, 1.32571137e-03,\n",
       "       1.67683294e-03, 2.1209...\n",
       "       7.19685673e-02, 9.10298178e-02, 1.15139540e-01, 1.45634848e-01,\n",
       "       1.84206997e-01, 2.32995181e-01, 2.94705170e-01, 3.72759372e-01,\n",
       "       4.71486636e-01, 5.96362332e-01, 7.54312006e-01, 9.54095476e-01,\n",
       "       1.20679264e+00, 1.52641797e+00, 1.93069773e+00, 2.44205309e+00,\n",
       "       3.08884360e+00, 3.90693994e+00, 4.94171336e+00, 6.25055193e+00,\n",
       "       7.90604321e+00, 1.00000000e+01])},\n",
       "                              scoring=&#x27;accuracy&#x27;))])</pre><b>In a Jupyter environment, please rerun this cell to show the HTML representation or trust the notebook. <br />On GitHub, the HTML representation is unable to render, please try loading this page with nbviewer.org.</b></div><div class=\"sk-container\" hidden><div class=\"sk-item sk-dashed-wrapped\"><div class=\"sk-label-container\"><div class=\"sk-label sk-toggleable\"><input class=\"sk-toggleable__control sk-hidden--visually\" id=\"sk-estimator-id-6\" type=\"checkbox\" ><label for=\"sk-estimator-id-6\" class=\"sk-toggleable__label sk-toggleable__label-arrow\">Pipeline</label><div class=\"sk-toggleable__content\"><pre>Pipeline(steps=[(&#x27;vectorizer&#x27;, TfidfVectorizer(stop_words=&#x27;english&#x27;)),\n",
       "                (&#x27;model&#x27;,\n",
       "                 GridSearchCV(cv=5, estimator=MultinomialNB(),\n",
       "                              param_grid={&#x27;alpha&#x27;: array([1.00000000e-04, 1.26485522e-04, 1.59985872e-04, 2.02358965e-04,\n",
       "       2.55954792e-04, 3.23745754e-04, 4.09491506e-04, 5.17947468e-04,\n",
       "       6.55128557e-04, 8.28642773e-04, 1.04811313e-03, 1.32571137e-03,\n",
       "       1.67683294e-03, 2.1209...\n",
       "       7.19685673e-02, 9.10298178e-02, 1.15139540e-01, 1.45634848e-01,\n",
       "       1.84206997e-01, 2.32995181e-01, 2.94705170e-01, 3.72759372e-01,\n",
       "       4.71486636e-01, 5.96362332e-01, 7.54312006e-01, 9.54095476e-01,\n",
       "       1.20679264e+00, 1.52641797e+00, 1.93069773e+00, 2.44205309e+00,\n",
       "       3.08884360e+00, 3.90693994e+00, 4.94171336e+00, 6.25055193e+00,\n",
       "       7.90604321e+00, 1.00000000e+01])},\n",
       "                              scoring=&#x27;accuracy&#x27;))])</pre></div></div></div><div class=\"sk-serial\"><div class=\"sk-item\"><div class=\"sk-estimator sk-toggleable\"><input class=\"sk-toggleable__control sk-hidden--visually\" id=\"sk-estimator-id-7\" type=\"checkbox\" ><label for=\"sk-estimator-id-7\" class=\"sk-toggleable__label sk-toggleable__label-arrow\">TfidfVectorizer</label><div class=\"sk-toggleable__content\"><pre>TfidfVectorizer(stop_words=&#x27;english&#x27;)</pre></div></div></div><div class=\"sk-item sk-dashed-wrapped\"><div class=\"sk-label-container\"><div class=\"sk-label sk-toggleable\"><input class=\"sk-toggleable__control sk-hidden--visually\" id=\"sk-estimator-id-8\" type=\"checkbox\" ><label for=\"sk-estimator-id-8\" class=\"sk-toggleable__label sk-toggleable__label-arrow\">model: GridSearchCV</label><div class=\"sk-toggleable__content\"><pre>GridSearchCV(cv=5, estimator=MultinomialNB(),\n",
       "             param_grid={&#x27;alpha&#x27;: array([1.00000000e-04, 1.26485522e-04, 1.59985872e-04, 2.02358965e-04,\n",
       "       2.55954792e-04, 3.23745754e-04, 4.09491506e-04, 5.17947468e-04,\n",
       "       6.55128557e-04, 8.28642773e-04, 1.04811313e-03, 1.32571137e-03,\n",
       "       1.67683294e-03, 2.12095089e-03, 2.68269580e-03, 3.39322177e-03,\n",
       "       4.29193426e-03, 5.42867544e-03, 6.8664884...\n",
       "       7.19685673e-02, 9.10298178e-02, 1.15139540e-01, 1.45634848e-01,\n",
       "       1.84206997e-01, 2.32995181e-01, 2.94705170e-01, 3.72759372e-01,\n",
       "       4.71486636e-01, 5.96362332e-01, 7.54312006e-01, 9.54095476e-01,\n",
       "       1.20679264e+00, 1.52641797e+00, 1.93069773e+00, 2.44205309e+00,\n",
       "       3.08884360e+00, 3.90693994e+00, 4.94171336e+00, 6.25055193e+00,\n",
       "       7.90604321e+00, 1.00000000e+01])},\n",
       "             scoring=&#x27;accuracy&#x27;)</pre></div></div></div><div class=\"sk-parallel\"><div class=\"sk-parallel-item\"><div class=\"sk-item\"><div class=\"sk-label-container\"><div class=\"sk-label sk-toggleable\"><input class=\"sk-toggleable__control sk-hidden--visually\" id=\"sk-estimator-id-9\" type=\"checkbox\" ><label for=\"sk-estimator-id-9\" class=\"sk-toggleable__label sk-toggleable__label-arrow\">estimator: MultinomialNB</label><div class=\"sk-toggleable__content\"><pre>MultinomialNB()</pre></div></div></div><div class=\"sk-serial\"><div class=\"sk-item\"><div class=\"sk-estimator sk-toggleable\"><input class=\"sk-toggleable__control sk-hidden--visually\" id=\"sk-estimator-id-10\" type=\"checkbox\" ><label for=\"sk-estimator-id-10\" class=\"sk-toggleable__label sk-toggleable__label-arrow\">MultinomialNB</label><div class=\"sk-toggleable__content\"><pre>MultinomialNB()</pre></div></div></div></div></div></div></div></div></div></div></div></div>"
      ],
      "text/plain": [
       "Pipeline(steps=[('vectorizer', TfidfVectorizer(stop_words='english')),\n",
       "                ('model',\n",
       "                 GridSearchCV(cv=5, estimator=MultinomialNB(),\n",
       "                              param_grid={'alpha': array([1.00000000e-04, 1.26485522e-04, 1.59985872e-04, 2.02358965e-04,\n",
       "       2.55954792e-04, 3.23745754e-04, 4.09491506e-04, 5.17947468e-04,\n",
       "       6.55128557e-04, 8.28642773e-04, 1.04811313e-03, 1.32571137e-03,\n",
       "       1.67683294e-03, 2.1209...\n",
       "       7.19685673e-02, 9.10298178e-02, 1.15139540e-01, 1.45634848e-01,\n",
       "       1.84206997e-01, 2.32995181e-01, 2.94705170e-01, 3.72759372e-01,\n",
       "       4.71486636e-01, 5.96362332e-01, 7.54312006e-01, 9.54095476e-01,\n",
       "       1.20679264e+00, 1.52641797e+00, 1.93069773e+00, 2.44205309e+00,\n",
       "       3.08884360e+00, 3.90693994e+00, 4.94171336e+00, 6.25055193e+00,\n",
       "       7.90604321e+00, 1.00000000e+01])},\n",
       "                              scoring='accuracy'))])"
      ]
     },
     "execution_count": 84,
     "metadata": {},
     "output_type": "execute_result"
    }
   ],
   "source": [
    "pipe.fit(X_train, y_train)"
   ]
  },
  {
   "cell_type": "code",
   "execution_count": 85,
   "id": "6026767f-9a2d-47da-add4-3dcc1db5eeb4",
   "metadata": {},
   "outputs": [
    {
     "data": {
      "text/plain": [
       "0.9178082191780822"
      ]
     },
     "execution_count": 85,
     "metadata": {},
     "output_type": "execute_result"
    }
   ],
   "source": [
    "pipe.score(X_test, y_test)"
   ]
  },
  {
   "cell_type": "code",
   "execution_count": 86,
   "id": "83610f85-3f72-4a46-9320-a60f9818633a",
   "metadata": {},
   "outputs": [],
   "source": [
    "y_pr = pipe.predict(X_test)"
   ]
  },
  {
   "cell_type": "code",
   "execution_count": 87,
   "id": "3b92d791-f82c-42c6-9e4d-bcd665869031",
   "metadata": {},
   "outputs": [],
   "source": [
    "accuracy = accuracy_score(y_test, y_pr)"
   ]
  },
  {
   "cell_type": "code",
   "execution_count": 88,
   "id": "6a7ab6c3-8f4f-455d-849a-010b217378f4",
   "metadata": {},
   "outputs": [
    {
     "data": {
      "text/plain": [
       "0.9178082191780822"
      ]
     },
     "execution_count": 88,
     "metadata": {},
     "output_type": "execute_result"
    }
   ],
   "source": [
    "accuracy"
   ]
  },
  {
   "cell_type": "markdown",
   "id": "39d0ad16-b815-4e9d-9be8-d55c976a0651",
   "metadata": {},
   "source": [
    "### Word Classification --  CountVectorizer followed by TfidfTransformer."
   ]
  },
  {
   "cell_type": "markdown",
   "id": "09b61360-1900-48bb-9723-1d60d1aee7ab",
   "metadata": {},
   "source": [
    "### vectorizer"
   ]
  },
  {
   "cell_type": "code",
   "execution_count": 89,
   "id": "c1a1101f-077a-4582-9cf9-aa149d64661e",
   "metadata": {},
   "outputs": [],
   "source": [
    "import numpy as np\n",
    "from sklearn.feature_extraction.text import CountVectorizer\n",
    "from sklearn.feature_extraction.text import TfidfTransformer"
   ]
  },
  {
   "cell_type": "code",
   "execution_count": 90,
   "id": "f5cacc73-ffbf-4053-8941-bfb04b7245be",
   "metadata": {},
   "outputs": [],
   "source": [
    "vectorizer = CountVectorizer(stop_words=\"english\")"
   ]
  },
  {
   "cell_type": "raw",
   "id": "fd94b95c-ed25-4cb7-84b8-17b0757c2dc5",
   "metadata": {},
   "source": [
    "-- Artist 1 : imagine dragon\n",
    "-- Artist 2 : linkin park"
   ]
  },
  {
   "cell_type": "code",
   "execution_count": 91,
   "id": "27a79001-d5fe-452d-8520-82183722023e",
   "metadata": {},
   "outputs": [],
   "source": [
    "# import all lyrics in a list \n",
    "lyrics = corpus"
   ]
  },
  {
   "cell_type": "code",
   "execution_count": 92,
   "id": "91835bb9-3dbc-47d2-9a64-d76a2d5390d0",
   "metadata": {},
   "outputs": [],
   "source": [
    "## Transform lyrics into matrix\n",
    "matrix = vectorizer.fit_transform(lyrics)\n",
    "#print(matrix)"
   ]
  },
  {
   "cell_type": "code",
   "execution_count": 93,
   "id": "a873adda-3856-46c5-94c7-9fdddb86be42",
   "metadata": {},
   "outputs": [],
   "source": [
    "# A matrix is dense (row-dense, column-dense) \n",
    "# if there are no zeros between two nonzero entries for every line (row, column) of this matrix"
   ]
  },
  {
   "cell_type": "code",
   "execution_count": 94,
   "id": "f9478e51-2903-4437-bdd4-54e84f4ec228",
   "metadata": {},
   "outputs": [],
   "source": [
    "# sparse matrix is a special case of a matrix in which the number of zero elements is much higher than the number of non-zero elements"
   ]
  },
  {
   "cell_type": "code",
   "execution_count": 95,
   "id": "6faf7b39-e5ff-445c-bdeb-54041fe9aba0",
   "metadata": {},
   "outputs": [
    {
     "data": {
      "text/plain": [
       "matrix([[0, 0, 0, ..., 0, 0, 0],\n",
       "        [0, 0, 0, ..., 0, 0, 0],\n",
       "        [0, 0, 0, ..., 0, 0, 0],\n",
       "        ...,\n",
       "        [0, 0, 0, ..., 0, 0, 0],\n",
       "        [0, 0, 0, ..., 0, 0, 0],\n",
       "        [0, 0, 0, ..., 0, 0, 0]])"
      ]
     },
     "execution_count": 95,
     "metadata": {},
     "output_type": "execute_result"
    }
   ],
   "source": [
    "matrix.todense()"
   ]
  },
  {
   "cell_type": "code",
   "execution_count": 96,
   "id": "881082f1-29e3-49f0-aa13-559294dfd75f",
   "metadata": {},
   "outputs": [],
   "source": [
    "## Get feature out of the vectoorizer"
   ]
  },
  {
   "cell_type": "code",
   "execution_count": 97,
   "id": "4abf8093-5fa0-487b-be32-fc8f2dd01cc8",
   "metadata": {},
   "outputs": [],
   "source": [
    "## plot features name \n",
    "# vectorizer.get_feature_names_out()"
   ]
  },
  {
   "cell_type": "code",
   "execution_count": 98,
   "id": "8ab2e12c-b369-4f99-a3fc-364c19daacc8",
   "metadata": {},
   "outputs": [],
   "source": [
    "# create a dataframe and store matrix vector and features"
   ]
  },
  {
   "cell_type": "code",
   "execution_count": 99,
   "id": "cf8ba8ed-7f4b-470d-b5d5-074864a38a32",
   "metadata": {},
   "outputs": [],
   "source": [
    "df = pd.DataFrame(matrix.todense(), columns=vectorizer.get_feature_names_out())"
   ]
  },
  {
   "cell_type": "code",
   "execution_count": 100,
   "id": "b2754a7c-c94c-4d14-aedd-9c3e924259cb",
   "metadata": {},
   "outputs": [
    {
     "data": {
      "text/html": [
       "<div>\n",
       "<style scoped>\n",
       "    .dataframe tbody tr th:only-of-type {\n",
       "        vertical-align: middle;\n",
       "    }\n",
       "\n",
       "    .dataframe tbody tr th {\n",
       "        vertical-align: top;\n",
       "    }\n",
       "\n",
       "    .dataframe thead th {\n",
       "        text-align: right;\n",
       "    }\n",
       "</style>\n",
       "<table border=\"1\" class=\"dataframe\">\n",
       "  <thead>\n",
       "    <tr style=\"text-align: right;\">\n",
       "      <th></th>\n",
       "      <th>27</th>\n",
       "      <th>4th</th>\n",
       "      <th>aah</th>\n",
       "      <th>abandoned</th>\n",
       "      <th>abroad</th>\n",
       "      <th>academy</th>\n",
       "      <th>accounts</th>\n",
       "      <th>accused</th>\n",
       "      <th>ache</th>\n",
       "      <th>aching</th>\n",
       "      <th>...</th>\n",
       "      <th>young</th>\n",
       "      <th>yountry</th>\n",
       "      <th>youth</th>\n",
       "      <th>yuugh</th>\n",
       "      <th>zero</th>\n",
       "      <th>zimbabwe</th>\n",
       "      <th>zion</th>\n",
       "      <th>ziya</th>\n",
       "      <th>zombie</th>\n",
       "      <th>zones</th>\n",
       "    </tr>\n",
       "  </thead>\n",
       "  <tbody>\n",
       "    <tr>\n",
       "      <th>0</th>\n",
       "      <td>0</td>\n",
       "      <td>0</td>\n",
       "      <td>0</td>\n",
       "      <td>0</td>\n",
       "      <td>0</td>\n",
       "      <td>0</td>\n",
       "      <td>0</td>\n",
       "      <td>0</td>\n",
       "      <td>0</td>\n",
       "      <td>0</td>\n",
       "      <td>...</td>\n",
       "      <td>0</td>\n",
       "      <td>0</td>\n",
       "      <td>0</td>\n",
       "      <td>0</td>\n",
       "      <td>0</td>\n",
       "      <td>0</td>\n",
       "      <td>0</td>\n",
       "      <td>0</td>\n",
       "      <td>0</td>\n",
       "      <td>0</td>\n",
       "    </tr>\n",
       "    <tr>\n",
       "      <th>1</th>\n",
       "      <td>0</td>\n",
       "      <td>0</td>\n",
       "      <td>0</td>\n",
       "      <td>0</td>\n",
       "      <td>0</td>\n",
       "      <td>0</td>\n",
       "      <td>0</td>\n",
       "      <td>0</td>\n",
       "      <td>0</td>\n",
       "      <td>0</td>\n",
       "      <td>...</td>\n",
       "      <td>0</td>\n",
       "      <td>0</td>\n",
       "      <td>0</td>\n",
       "      <td>0</td>\n",
       "      <td>0</td>\n",
       "      <td>0</td>\n",
       "      <td>0</td>\n",
       "      <td>0</td>\n",
       "      <td>0</td>\n",
       "      <td>0</td>\n",
       "    </tr>\n",
       "    <tr>\n",
       "      <th>2</th>\n",
       "      <td>0</td>\n",
       "      <td>0</td>\n",
       "      <td>0</td>\n",
       "      <td>0</td>\n",
       "      <td>0</td>\n",
       "      <td>0</td>\n",
       "      <td>0</td>\n",
       "      <td>0</td>\n",
       "      <td>0</td>\n",
       "      <td>0</td>\n",
       "      <td>...</td>\n",
       "      <td>0</td>\n",
       "      <td>0</td>\n",
       "      <td>0</td>\n",
       "      <td>0</td>\n",
       "      <td>0</td>\n",
       "      <td>0</td>\n",
       "      <td>0</td>\n",
       "      <td>0</td>\n",
       "      <td>0</td>\n",
       "      <td>0</td>\n",
       "    </tr>\n",
       "    <tr>\n",
       "      <th>3</th>\n",
       "      <td>0</td>\n",
       "      <td>0</td>\n",
       "      <td>0</td>\n",
       "      <td>0</td>\n",
       "      <td>0</td>\n",
       "      <td>0</td>\n",
       "      <td>0</td>\n",
       "      <td>0</td>\n",
       "      <td>0</td>\n",
       "      <td>0</td>\n",
       "      <td>...</td>\n",
       "      <td>0</td>\n",
       "      <td>0</td>\n",
       "      <td>0</td>\n",
       "      <td>0</td>\n",
       "      <td>0</td>\n",
       "      <td>0</td>\n",
       "      <td>0</td>\n",
       "      <td>0</td>\n",
       "      <td>0</td>\n",
       "      <td>0</td>\n",
       "    </tr>\n",
       "    <tr>\n",
       "      <th>4</th>\n",
       "      <td>0</td>\n",
       "      <td>0</td>\n",
       "      <td>0</td>\n",
       "      <td>0</td>\n",
       "      <td>0</td>\n",
       "      <td>0</td>\n",
       "      <td>0</td>\n",
       "      <td>0</td>\n",
       "      <td>0</td>\n",
       "      <td>0</td>\n",
       "      <td>...</td>\n",
       "      <td>0</td>\n",
       "      <td>0</td>\n",
       "      <td>0</td>\n",
       "      <td>0</td>\n",
       "      <td>0</td>\n",
       "      <td>0</td>\n",
       "      <td>0</td>\n",
       "      <td>0</td>\n",
       "      <td>0</td>\n",
       "      <td>0</td>\n",
       "    </tr>\n",
       "  </tbody>\n",
       "</table>\n",
       "<p>5 rows × 2502 columns</p>\n",
       "</div>"
      ],
      "text/plain": [
       "   27  4th  aah  abandoned  abroad  academy  accounts  accused  ache  aching  \\\n",
       "0   0    0    0          0       0        0         0        0     0       0   \n",
       "1   0    0    0          0       0        0         0        0     0       0   \n",
       "2   0    0    0          0       0        0         0        0     0       0   \n",
       "3   0    0    0          0       0        0         0        0     0       0   \n",
       "4   0    0    0          0       0        0         0        0     0       0   \n",
       "\n",
       "   ...  young  yountry  youth  yuugh  zero  zimbabwe  zion  ziya  zombie  \\\n",
       "0  ...      0        0      0      0     0         0     0     0       0   \n",
       "1  ...      0        0      0      0     0         0     0     0       0   \n",
       "2  ...      0        0      0      0     0         0     0     0       0   \n",
       "3  ...      0        0      0      0     0         0     0     0       0   \n",
       "4  ...      0        0      0      0     0         0     0     0       0   \n",
       "\n",
       "   zones  \n",
       "0      0  \n",
       "1      0  \n",
       "2      0  \n",
       "3      0  \n",
       "4      0  \n",
       "\n",
       "[5 rows x 2502 columns]"
      ]
     },
     "execution_count": 100,
     "metadata": {},
     "output_type": "execute_result"
    }
   ],
   "source": [
    "df.head()"
   ]
  },
  {
   "cell_type": "markdown",
   "id": "85ba128a-7dd9-466f-a891-5bf1e92ef631",
   "metadata": {},
   "source": [
    "### Normalisation using TF-IDF"
   ]
  },
  {
   "cell_type": "code",
   "execution_count": 101,
   "id": "b873ee40-ed92-44af-bb79-0789474e9aca",
   "metadata": {},
   "outputs": [],
   "source": [
    "tf = TfidfTransformer()"
   ]
  },
  {
   "cell_type": "code",
   "execution_count": 102,
   "id": "039d39b9-8da1-4d16-bf71-1d31e68a840a",
   "metadata": {},
   "outputs": [],
   "source": [
    "transformed = tf.fit_transform(matrix)"
   ]
  },
  {
   "cell_type": "code",
   "execution_count": 103,
   "id": "c4ce0630-175d-4b9e-9a5b-50b93bf99bce",
   "metadata": {},
   "outputs": [],
   "source": [
    "## store transformed into dataFrame"
   ]
  },
  {
   "cell_type": "code",
   "execution_count": 104,
   "id": "accac3d9-7628-4b0a-9bb6-5ca7cf2546ab",
   "metadata": {},
   "outputs": [
    {
     "data": {
      "text/html": [
       "<div>\n",
       "<style scoped>\n",
       "    .dataframe tbody tr th:only-of-type {\n",
       "        vertical-align: middle;\n",
       "    }\n",
       "\n",
       "    .dataframe tbody tr th {\n",
       "        vertical-align: top;\n",
       "    }\n",
       "\n",
       "    .dataframe thead th {\n",
       "        text-align: right;\n",
       "    }\n",
       "</style>\n",
       "<table border=\"1\" class=\"dataframe\">\n",
       "  <thead>\n",
       "    <tr style=\"text-align: right;\">\n",
       "      <th></th>\n",
       "      <th>27</th>\n",
       "      <th>4th</th>\n",
       "      <th>aah</th>\n",
       "      <th>abandoned</th>\n",
       "      <th>abroad</th>\n",
       "      <th>academy</th>\n",
       "      <th>accounts</th>\n",
       "      <th>accused</th>\n",
       "      <th>ache</th>\n",
       "      <th>aching</th>\n",
       "      <th>...</th>\n",
       "      <th>young</th>\n",
       "      <th>yountry</th>\n",
       "      <th>youth</th>\n",
       "      <th>yuugh</th>\n",
       "      <th>zero</th>\n",
       "      <th>zimbabwe</th>\n",
       "      <th>zion</th>\n",
       "      <th>ziya</th>\n",
       "      <th>zombie</th>\n",
       "      <th>zones</th>\n",
       "    </tr>\n",
       "  </thead>\n",
       "  <tbody>\n",
       "    <tr>\n",
       "      <th>0</th>\n",
       "      <td>0.0</td>\n",
       "      <td>0.0</td>\n",
       "      <td>0.0</td>\n",
       "      <td>0.0</td>\n",
       "      <td>0.0</td>\n",
       "      <td>0.0</td>\n",
       "      <td>0.0</td>\n",
       "      <td>0.0</td>\n",
       "      <td>0.0</td>\n",
       "      <td>0.0</td>\n",
       "      <td>...</td>\n",
       "      <td>0.0</td>\n",
       "      <td>0.0</td>\n",
       "      <td>0.0</td>\n",
       "      <td>0.0</td>\n",
       "      <td>0.0</td>\n",
       "      <td>0.0</td>\n",
       "      <td>0.0</td>\n",
       "      <td>0.0</td>\n",
       "      <td>0.0</td>\n",
       "      <td>0.0</td>\n",
       "    </tr>\n",
       "    <tr>\n",
       "      <th>1</th>\n",
       "      <td>0.0</td>\n",
       "      <td>0.0</td>\n",
       "      <td>0.0</td>\n",
       "      <td>0.0</td>\n",
       "      <td>0.0</td>\n",
       "      <td>0.0</td>\n",
       "      <td>0.0</td>\n",
       "      <td>0.0</td>\n",
       "      <td>0.0</td>\n",
       "      <td>0.0</td>\n",
       "      <td>...</td>\n",
       "      <td>0.0</td>\n",
       "      <td>0.0</td>\n",
       "      <td>0.0</td>\n",
       "      <td>0.0</td>\n",
       "      <td>0.0</td>\n",
       "      <td>0.0</td>\n",
       "      <td>0.0</td>\n",
       "      <td>0.0</td>\n",
       "      <td>0.0</td>\n",
       "      <td>0.0</td>\n",
       "    </tr>\n",
       "    <tr>\n",
       "      <th>2</th>\n",
       "      <td>0.0</td>\n",
       "      <td>0.0</td>\n",
       "      <td>0.0</td>\n",
       "      <td>0.0</td>\n",
       "      <td>0.0</td>\n",
       "      <td>0.0</td>\n",
       "      <td>0.0</td>\n",
       "      <td>0.0</td>\n",
       "      <td>0.0</td>\n",
       "      <td>0.0</td>\n",
       "      <td>...</td>\n",
       "      <td>0.0</td>\n",
       "      <td>0.0</td>\n",
       "      <td>0.0</td>\n",
       "      <td>0.0</td>\n",
       "      <td>0.0</td>\n",
       "      <td>0.0</td>\n",
       "      <td>0.0</td>\n",
       "      <td>0.0</td>\n",
       "      <td>0.0</td>\n",
       "      <td>0.0</td>\n",
       "    </tr>\n",
       "    <tr>\n",
       "      <th>3</th>\n",
       "      <td>0.0</td>\n",
       "      <td>0.0</td>\n",
       "      <td>0.0</td>\n",
       "      <td>0.0</td>\n",
       "      <td>0.0</td>\n",
       "      <td>0.0</td>\n",
       "      <td>0.0</td>\n",
       "      <td>0.0</td>\n",
       "      <td>0.0</td>\n",
       "      <td>0.0</td>\n",
       "      <td>...</td>\n",
       "      <td>0.0</td>\n",
       "      <td>0.0</td>\n",
       "      <td>0.0</td>\n",
       "      <td>0.0</td>\n",
       "      <td>0.0</td>\n",
       "      <td>0.0</td>\n",
       "      <td>0.0</td>\n",
       "      <td>0.0</td>\n",
       "      <td>0.0</td>\n",
       "      <td>0.0</td>\n",
       "    </tr>\n",
       "    <tr>\n",
       "      <th>4</th>\n",
       "      <td>0.0</td>\n",
       "      <td>0.0</td>\n",
       "      <td>0.0</td>\n",
       "      <td>0.0</td>\n",
       "      <td>0.0</td>\n",
       "      <td>0.0</td>\n",
       "      <td>0.0</td>\n",
       "      <td>0.0</td>\n",
       "      <td>0.0</td>\n",
       "      <td>0.0</td>\n",
       "      <td>...</td>\n",
       "      <td>0.0</td>\n",
       "      <td>0.0</td>\n",
       "      <td>0.0</td>\n",
       "      <td>0.0</td>\n",
       "      <td>0.0</td>\n",
       "      <td>0.0</td>\n",
       "      <td>0.0</td>\n",
       "      <td>0.0</td>\n",
       "      <td>0.0</td>\n",
       "      <td>0.0</td>\n",
       "    </tr>\n",
       "  </tbody>\n",
       "</table>\n",
       "<p>5 rows × 2502 columns</p>\n",
       "</div>"
      ],
      "text/plain": [
       "    27  4th  aah  abandoned  abroad  academy  accounts  accused  ache  aching  \\\n",
       "0  0.0  0.0  0.0        0.0     0.0      0.0       0.0      0.0   0.0     0.0   \n",
       "1  0.0  0.0  0.0        0.0     0.0      0.0       0.0      0.0   0.0     0.0   \n",
       "2  0.0  0.0  0.0        0.0     0.0      0.0       0.0      0.0   0.0     0.0   \n",
       "3  0.0  0.0  0.0        0.0     0.0      0.0       0.0      0.0   0.0     0.0   \n",
       "4  0.0  0.0  0.0        0.0     0.0      0.0       0.0      0.0   0.0     0.0   \n",
       "\n",
       "   ...  young  yountry  youth  yuugh  zero  zimbabwe  zion  ziya  zombie  \\\n",
       "0  ...    0.0      0.0    0.0    0.0   0.0       0.0   0.0   0.0     0.0   \n",
       "1  ...    0.0      0.0    0.0    0.0   0.0       0.0   0.0   0.0     0.0   \n",
       "2  ...    0.0      0.0    0.0    0.0   0.0       0.0   0.0   0.0     0.0   \n",
       "3  ...    0.0      0.0    0.0    0.0   0.0       0.0   0.0   0.0     0.0   \n",
       "4  ...    0.0      0.0    0.0    0.0   0.0       0.0   0.0   0.0     0.0   \n",
       "\n",
       "   zones  \n",
       "0    0.0  \n",
       "1    0.0  \n",
       "2    0.0  \n",
       "3    0.0  \n",
       "4    0.0  \n",
       "\n",
       "[5 rows x 2502 columns]"
      ]
     },
     "execution_count": 104,
     "metadata": {},
     "output_type": "execute_result"
    }
   ],
   "source": [
    "trans_df = pd.DataFrame(transformed.todense(), columns=vectorizer.get_feature_names_out())\n",
    "trans_df.head()"
   ]
  },
  {
   "cell_type": "markdown",
   "id": "74c37b65-ed0a-4e10-a2f7-217b47391491",
   "metadata": {},
   "source": [
    "### Build Classification model"
   ]
  },
  {
   "cell_type": "code",
   "execution_count": null,
   "id": "8e07ef31-5a9d-424d-ac90-cf28e6817993",
   "metadata": {},
   "outputs": [],
   "source": []
  },
  {
   "cell_type": "code",
   "execution_count": 105,
   "id": "d315f248-9a61-4bf1-b82c-37f20bb51200",
   "metadata": {},
   "outputs": [],
   "source": [
    "#data.head()"
   ]
  },
  {
   "cell_type": "code",
   "execution_count": 106,
   "id": "b36ea414-c52c-476e-b1df-dadee970840d",
   "metadata": {},
   "outputs": [],
   "source": [
    "#X = df.values                                   # to do the prediction without TF-IDF Normalization \n",
    "X = trans_df.values                            # to do the prediction after TF-IDF Normalization \n",
    "#y = (['Imagine Dragons']* len(data.loc[data['artist'] == 'Imagine Dragons'])) + (['Linkin Park']* len(data.loc[data['artist'] == 'Linkin Park']))"
   ]
  },
  {
   "cell_type": "code",
   "execution_count": 107,
   "id": "c81c4f57-1ec3-46b1-97b1-6ae43f16ed0d",
   "metadata": {},
   "outputs": [
    {
     "data": {
      "text/plain": [
       "(216,)"
      ]
     },
     "execution_count": 107,
     "metadata": {},
     "output_type": "execute_result"
    }
   ],
   "source": [
    "X_train.shape"
   ]
  },
  {
   "cell_type": "code",
   "execution_count": 108,
   "id": "af2105c5-e0d9-40f4-bf15-99d1b21f3a1f",
   "metadata": {},
   "outputs": [
    {
     "data": {
      "text/plain": [
       "289"
      ]
     },
     "execution_count": 108,
     "metadata": {},
     "output_type": "execute_result"
    }
   ],
   "source": [
    "len(y)"
   ]
  },
  {
   "cell_type": "markdown",
   "id": "b883d130-df3d-4c97-b087-4d315abd87aa",
   "metadata": {},
   "source": [
    "### Logistic regression"
   ]
  },
  {
   "cell_type": "code",
   "execution_count": 109,
   "id": "2f2bd96e-9341-4892-a22f-d171507c5ea2",
   "metadata": {},
   "outputs": [],
   "source": [
    "### Split data set"
   ]
  },
  {
   "cell_type": "code",
   "execution_count": 110,
   "id": "78780272-be15-4587-944e-78d9dc3412f3",
   "metadata": {},
   "outputs": [],
   "source": [
    "\n",
    "X_train, X_test, y_train, y_test = train_test_split(X,y, random_state = 42)"
   ]
  },
  {
   "cell_type": "code",
   "execution_count": 111,
   "id": "e47db21b-9561-471f-95a4-e81a82f3182c",
   "metadata": {},
   "outputs": [
    {
     "data": {
      "text/html": [
       "<style>#sk-container-id-3 {color: black;background-color: white;}#sk-container-id-3 pre{padding: 0;}#sk-container-id-3 div.sk-toggleable {background-color: white;}#sk-container-id-3 label.sk-toggleable__label {cursor: pointer;display: block;width: 100%;margin-bottom: 0;padding: 0.3em;box-sizing: border-box;text-align: center;}#sk-container-id-3 label.sk-toggleable__label-arrow:before {content: \"▸\";float: left;margin-right: 0.25em;color: #696969;}#sk-container-id-3 label.sk-toggleable__label-arrow:hover:before {color: black;}#sk-container-id-3 div.sk-estimator:hover label.sk-toggleable__label-arrow:before {color: black;}#sk-container-id-3 div.sk-toggleable__content {max-height: 0;max-width: 0;overflow: hidden;text-align: left;background-color: #f0f8ff;}#sk-container-id-3 div.sk-toggleable__content pre {margin: 0.2em;color: black;border-radius: 0.25em;background-color: #f0f8ff;}#sk-container-id-3 input.sk-toggleable__control:checked~div.sk-toggleable__content {max-height: 200px;max-width: 100%;overflow: auto;}#sk-container-id-3 input.sk-toggleable__control:checked~label.sk-toggleable__label-arrow:before {content: \"▾\";}#sk-container-id-3 div.sk-estimator input.sk-toggleable__control:checked~label.sk-toggleable__label {background-color: #d4ebff;}#sk-container-id-3 div.sk-label input.sk-toggleable__control:checked~label.sk-toggleable__label {background-color: #d4ebff;}#sk-container-id-3 input.sk-hidden--visually {border: 0;clip: rect(1px 1px 1px 1px);clip: rect(1px, 1px, 1px, 1px);height: 1px;margin: -1px;overflow: hidden;padding: 0;position: absolute;width: 1px;}#sk-container-id-3 div.sk-estimator {font-family: monospace;background-color: #f0f8ff;border: 1px dotted black;border-radius: 0.25em;box-sizing: border-box;margin-bottom: 0.5em;}#sk-container-id-3 div.sk-estimator:hover {background-color: #d4ebff;}#sk-container-id-3 div.sk-parallel-item::after {content: \"\";width: 100%;border-bottom: 1px solid gray;flex-grow: 1;}#sk-container-id-3 div.sk-label:hover label.sk-toggleable__label {background-color: #d4ebff;}#sk-container-id-3 div.sk-serial::before {content: \"\";position: absolute;border-left: 1px solid gray;box-sizing: border-box;top: 0;bottom: 0;left: 50%;z-index: 0;}#sk-container-id-3 div.sk-serial {display: flex;flex-direction: column;align-items: center;background-color: white;padding-right: 0.2em;padding-left: 0.2em;position: relative;}#sk-container-id-3 div.sk-item {position: relative;z-index: 1;}#sk-container-id-3 div.sk-parallel {display: flex;align-items: stretch;justify-content: center;background-color: white;position: relative;}#sk-container-id-3 div.sk-item::before, #sk-container-id-3 div.sk-parallel-item::before {content: \"\";position: absolute;border-left: 1px solid gray;box-sizing: border-box;top: 0;bottom: 0;left: 50%;z-index: -1;}#sk-container-id-3 div.sk-parallel-item {display: flex;flex-direction: column;z-index: 1;position: relative;background-color: white;}#sk-container-id-3 div.sk-parallel-item:first-child::after {align-self: flex-end;width: 50%;}#sk-container-id-3 div.sk-parallel-item:last-child::after {align-self: flex-start;width: 50%;}#sk-container-id-3 div.sk-parallel-item:only-child::after {width: 0;}#sk-container-id-3 div.sk-dashed-wrapped {border: 1px dashed gray;margin: 0 0.4em 0.5em 0.4em;box-sizing: border-box;padding-bottom: 0.4em;background-color: white;}#sk-container-id-3 div.sk-label label {font-family: monospace;font-weight: bold;display: inline-block;line-height: 1.2em;}#sk-container-id-3 div.sk-label-container {text-align: center;}#sk-container-id-3 div.sk-container {/* jupyter's `normalize.less` sets `[hidden] { display: none; }` but bootstrap.min.css set `[hidden] { display: none !important; }` so we also need the `!important` here to be able to override the default hidden behavior on the sphinx rendered scikit-learn.org. See: https://github.com/scikit-learn/scikit-learn/issues/21755 */display: inline-block !important;position: relative;}#sk-container-id-3 div.sk-text-repr-fallback {display: none;}</style><div id=\"sk-container-id-3\" class=\"sk-top-container\"><div class=\"sk-text-repr-fallback\"><pre>LogisticRegression()</pre><b>In a Jupyter environment, please rerun this cell to show the HTML representation or trust the notebook. <br />On GitHub, the HTML representation is unable to render, please try loading this page with nbviewer.org.</b></div><div class=\"sk-container\" hidden><div class=\"sk-item\"><div class=\"sk-estimator sk-toggleable\"><input class=\"sk-toggleable__control sk-hidden--visually\" id=\"sk-estimator-id-11\" type=\"checkbox\" checked><label for=\"sk-estimator-id-11\" class=\"sk-toggleable__label sk-toggleable__label-arrow\">LogisticRegression</label><div class=\"sk-toggleable__content\"><pre>LogisticRegression()</pre></div></div></div></div></div>"
      ],
      "text/plain": [
       "LogisticRegression()"
      ]
     },
     "execution_count": 111,
     "metadata": {},
     "output_type": "execute_result"
    }
   ],
   "source": [
    "m = LogisticRegression()\n",
    "m.fit(X_train, y_train)"
   ]
  },
  {
   "cell_type": "code",
   "execution_count": 112,
   "id": "201ebb96-c4e1-4085-b893-e4ac856bc48e",
   "metadata": {},
   "outputs": [
    {
     "data": {
      "text/plain": [
       "1.0"
      ]
     },
     "execution_count": 112,
     "metadata": {},
     "output_type": "execute_result"
    }
   ],
   "source": [
    "m.score(X_train, y_train)"
   ]
  },
  {
   "cell_type": "code",
   "execution_count": 113,
   "id": "81a0a980-b340-403b-9418-11194b529055",
   "metadata": {},
   "outputs": [
    {
     "data": {
      "text/plain": [
       "0.8904109589041096"
      ]
     },
     "execution_count": 113,
     "metadata": {},
     "output_type": "execute_result"
    }
   ],
   "source": [
    "m.score(X_test, y_test)"
   ]
  },
  {
   "cell_type": "markdown",
   "id": "f8be9e61-302b-4b83-8065-59a857e685e5",
   "metadata": {},
   "source": [
    "### Prediction test data"
   ]
  },
  {
   "cell_type": "code",
   "execution_count": 114,
   "id": "16db8629-a71d-49c2-9efe-9bacd96e11d1",
   "metadata": {},
   "outputs": [],
   "source": [
    "from sklearn.metrics import confusion_matrix\n",
    "from sklearn import metrics"
   ]
  },
  {
   "cell_type": "code",
   "execution_count": 115,
   "id": "6c0dcd9b-3586-411b-9802-a774e1d18307",
   "metadata": {},
   "outputs": [],
   "source": [
    "y_pred = m.predict(X_test)"
   ]
  },
  {
   "cell_type": "code",
   "execution_count": 116,
   "id": "fdb9d8f2-bbfd-44d3-b6a4-79f9cb566834",
   "metadata": {},
   "outputs": [],
   "source": [
    "#y_pred = y_pred.reshape(-1, 1) -- to recreate the array  --- y_pred = np.array(y_pred.tolist()),\n",
    "#y_pred = y_pred.tolist()"
   ]
  },
  {
   "cell_type": "code",
   "execution_count": 117,
   "id": "af7e1c13-1424-4031-84e5-e789922c3f39",
   "metadata": {},
   "outputs": [],
   "source": [
    "#y_pred"
   ]
  },
  {
   "cell_type": "code",
   "execution_count": 118,
   "id": "87172daf-da3f-4647-b919-69a73bcc6b1d",
   "metadata": {},
   "outputs": [
    {
     "data": {
      "text/plain": [
       "(list, numpy.ndarray)"
      ]
     },
     "execution_count": 118,
     "metadata": {},
     "output_type": "execute_result"
    }
   ],
   "source": [
    "type(y_test), type(y_pred)"
   ]
  },
  {
   "cell_type": "code",
   "execution_count": 121,
   "id": "338a8eb5-ddd6-4d4b-9cc4-5417800fd1e5",
   "metadata": {},
   "outputs": [
    {
     "name": "stderr",
     "output_type": "stream",
     "text": [
      "/home/ayouba/anaconda3/lib/python3.9/site-packages/sklearn/metrics/_classification.py:1396: UserWarning: Note that pos_label (set to 'Linkin Park') is ignored when average != 'binary' (got 'weighted'). You may use labels=[pos_label] to specify a single positive class.\n",
      "  warnings.warn(\n"
     ]
    },
    {
     "data": {
      "text/plain": [
       "0.8947652095975194"
      ]
     },
     "execution_count": 121,
     "metadata": {},
     "output_type": "execute_result"
    }
   ],
   "source": [
    "metrics.precision_score(y_test, y_pred, pos_label='Linkin Park', average='weighted')"
   ]
  },
  {
   "cell_type": "markdown",
   "id": "b63cfeeb-9612-4483-919e-0caf71ebd183",
   "metadata": {},
   "source": [
    "### confusion matrix"
   ]
  },
  {
   "cell_type": "code",
   "execution_count": 122,
   "id": "27596a08-f624-46be-8cf1-a723739e4d66",
   "metadata": {},
   "outputs": [],
   "source": [
    "# Confusion matrix \n",
    "cm = metrics.confusion_matrix(y_test, y_pred)"
   ]
  },
  {
   "cell_type": "code",
   "execution_count": 123,
   "id": "1be57a38-752b-4a78-b543-9986bdb9094e",
   "metadata": {},
   "outputs": [],
   "source": [
    "cm_plot = metrics.ConfusionMatrixDisplay(confusion_matrix=cm,\n",
    "                                         display_labels=m.classes_)"
   ]
  },
  {
   "cell_type": "code",
   "execution_count": 124,
   "id": "373ad3eb-4e73-471e-a1ab-75134164f147",
   "metadata": {},
   "outputs": [
    {
     "data": {
      "text/plain": [
       "<sklearn.metrics._plot.confusion_matrix.ConfusionMatrixDisplay at 0x7f65d9d918b0>"
      ]
     },
     "execution_count": 124,
     "metadata": {},
     "output_type": "execute_result"
    },
    {
     "data": {
      "image/png": "[encoded data removed]",
      "text/plain": [
       "<Figure size 640x480 with 2 Axes>"
      ]
     },
     "metadata": {},
     "output_type": "display_data"
    }
   ],
   "source": [
    "cm_plot.plot()"
   ]
  },
  {
   "cell_type": "markdown",
   "id": "673f7f3b-5311-4ce9-af61-c44c9e782d0a",
   "metadata": {},
   "source": [
    "### Random Forest"
   ]
  },
  {
   "cell_type": "code",
   "execution_count": 125,
   "id": "6e1d9970-2219-4979-a35e-00a3a268c62f",
   "metadata": {},
   "outputs": [],
   "source": [
    "from sklearn.ensemble import RandomForestClassifier\n",
    "from sklearn.model_selection import GridSearchCV"
   ]
  },
  {
   "cell_type": "code",
   "execution_count": 126,
   "id": "da68a199-7f75-4759-b032-cc80bf4ae173",
   "metadata": {},
   "outputs": [],
   "source": [
    "#GridSearch "
   ]
  },
  {
   "cell_type": "code",
   "execution_count": 127,
   "id": "6f0a1d8f-2ac0-42b2-83ec-4f723af5e33d",
   "metadata": {},
   "outputs": [],
   "source": [
    "parameters = ({ 'n_estimators' : [2 ** i for i in range(3, 9)],\n",
    "               'max_depth': [2, 4, 8, 16, 32, None]})"
   ]
  },
  {
   "cell_type": "code",
   "execution_count": 128,
   "id": "4aac0df1-7b3c-4515-8478-e30952c2a1fb",
   "metadata": {},
   "outputs": [],
   "source": [
    "grid_cv = GridSearchCV(estimator=RandomForestClassifier(), param_grid= parameters, \n",
    "                             n_jobs=cores_to_use, cv=5, verbose = 3)"
   ]
  },
  {
   "cell_type": "code",
   "execution_count": 129,
   "id": "9a294e59-2652-4bc8-8eb5-41858a51b6f6",
   "metadata": {},
   "outputs": [
    {
     "name": "stdout",
     "output_type": "stream",
     "text": [
      "Fitting 5 folds for each of 36 candidates, totalling 180 fits\n"
     ]
    },
    {
     "data": {
      "text/html": [
       "<style>#sk-container-id-4 {color: black;background-color: white;}#sk-container-id-4 pre{padding: 0;}#sk-container-id-4 div.sk-toggleable {background-color: white;}#sk-container-id-4 label.sk-toggleable__label {cursor: pointer;display: block;width: 100%;margin-bottom: 0;padding: 0.3em;box-sizing: border-box;text-align: center;}#sk-container-id-4 label.sk-toggleable__label-arrow:before {content: \"▸\";float: left;margin-right: 0.25em;color: #696969;}#sk-container-id-4 label.sk-toggleable__label-arrow:hover:before {color: black;}#sk-container-id-4 div.sk-estimator:hover label.sk-toggleable__label-arrow:before {color: black;}#sk-container-id-4 div.sk-toggleable__content {max-height: 0;max-width: 0;overflow: hidden;text-align: left;background-color: #f0f8ff;}#sk-container-id-4 div.sk-toggleable__content pre {margin: 0.2em;color: black;border-radius: 0.25em;background-color: #f0f8ff;}#sk-container-id-4 input.sk-toggleable__control:checked~div.sk-toggleable__content {max-height: 200px;max-width: 100%;overflow: auto;}#sk-container-id-4 input.sk-toggleable__control:checked~label.sk-toggleable__label-arrow:before {content: \"▾\";}#sk-container-id-4 div.sk-estimator input.sk-toggleable__control:checked~label.sk-toggleable__label {background-color: #d4ebff;}#sk-container-id-4 div.sk-label input.sk-toggleable__control:checked~label.sk-toggleable__label {background-color: #d4ebff;}#sk-container-id-4 input.sk-hidden--visually {border: 0;clip: rect(1px 1px 1px 1px);clip: rect(1px, 1px, 1px, 1px);height: 1px;margin: -1px;overflow: hidden;padding: 0;position: absolute;width: 1px;}#sk-container-id-4 div.sk-estimator {font-family: monospace;background-color: #f0f8ff;border: 1px dotted black;border-radius: 0.25em;box-sizing: border-box;margin-bottom: 0.5em;}#sk-container-id-4 div.sk-estimator:hover {background-color: #d4ebff;}#sk-container-id-4 div.sk-parallel-item::after {content: \"\";width: 100%;border-bottom: 1px solid gray;flex-grow: 1;}#sk-container-id-4 div.sk-label:hover label.sk-toggleable__label {background-color: #d4ebff;}#sk-container-id-4 div.sk-serial::before {content: \"\";position: absolute;border-left: 1px solid gray;box-sizing: border-box;top: 0;bottom: 0;left: 50%;z-index: 0;}#sk-container-id-4 div.sk-serial {display: flex;flex-direction: column;align-items: center;background-color: white;padding-right: 0.2em;padding-left: 0.2em;position: relative;}#sk-container-id-4 div.sk-item {position: relative;z-index: 1;}#sk-container-id-4 div.sk-parallel {display: flex;align-items: stretch;justify-content: center;background-color: white;position: relative;}#sk-container-id-4 div.sk-item::before, #sk-container-id-4 div.sk-parallel-item::before {content: \"\";position: absolute;border-left: 1px solid gray;box-sizing: border-box;top: 0;bottom: 0;left: 50%;z-index: -1;}#sk-container-id-4 div.sk-parallel-item {display: flex;flex-direction: column;z-index: 1;position: relative;background-color: white;}#sk-container-id-4 div.sk-parallel-item:first-child::after {align-self: flex-end;width: 50%;}#sk-container-id-4 div.sk-parallel-item:last-child::after {align-self: flex-start;width: 50%;}#sk-container-id-4 div.sk-parallel-item:only-child::after {width: 0;}#sk-container-id-4 div.sk-dashed-wrapped {border: 1px dashed gray;margin: 0 0.4em 0.5em 0.4em;box-sizing: border-box;padding-bottom: 0.4em;background-color: white;}#sk-container-id-4 div.sk-label label {font-family: monospace;font-weight: bold;display: inline-block;line-height: 1.2em;}#sk-container-id-4 div.sk-label-container {text-align: center;}#sk-container-id-4 div.sk-container {/* jupyter's `normalize.less` sets `[hidden] { display: none; }` but bootstrap.min.css set `[hidden] { display: none !important; }` so we also need the `!important` here to be able to override the default hidden behavior on the sphinx rendered scikit-learn.org. See: https://github.com/scikit-learn/scikit-learn/issues/21755 */display: inline-block !important;position: relative;}#sk-container-id-4 div.sk-text-repr-fallback {display: none;}</style><div id=\"sk-container-id-4\" class=\"sk-top-container\"><div class=\"sk-text-repr-fallback\"><pre>GridSearchCV(cv=5, estimator=RandomForestClassifier(), n_jobs=6,\n",
       "             param_grid={&#x27;max_depth&#x27;: [2, 4, 8, 16, 32, None],\n",
       "                         &#x27;n_estimators&#x27;: [8, 16, 32, 64, 128, 256]},\n",
       "             verbose=3)</pre><b>In a Jupyter environment, please rerun this cell to show the HTML representation or trust the notebook. <br />On GitHub, the HTML representation is unable to render, please try loading this page with nbviewer.org.</b></div><div class=\"sk-container\" hidden><div class=\"sk-item sk-dashed-wrapped\"><div class=\"sk-label-container\"><div class=\"sk-label sk-toggleable\"><input class=\"sk-toggleable__control sk-hidden--visually\" id=\"sk-estimator-id-12\" type=\"checkbox\" ><label for=\"sk-estimator-id-12\" class=\"sk-toggleable__label sk-toggleable__label-arrow\">GridSearchCV</label><div class=\"sk-toggleable__content\"><pre>GridSearchCV(cv=5, estimator=RandomForestClassifier(), n_jobs=6,\n",
       "             param_grid={&#x27;max_depth&#x27;: [2, 4, 8, 16, 32, None],\n",
       "                         &#x27;n_estimators&#x27;: [8, 16, 32, 64, 128, 256]},\n",
       "             verbose=3)</pre></div></div></div><div class=\"sk-parallel\"><div class=\"sk-parallel-item\"><div class=\"sk-item\"><div class=\"sk-label-container\"><div class=\"sk-label sk-toggleable\"><input class=\"sk-toggleable__control sk-hidden--visually\" id=\"sk-estimator-id-13\" type=\"checkbox\" ><label for=\"sk-estimator-id-13\" class=\"sk-toggleable__label sk-toggleable__label-arrow\">estimator: RandomForestClassifier</label><div class=\"sk-toggleable__content\"><pre>RandomForestClassifier()</pre></div></div></div><div class=\"sk-serial\"><div class=\"sk-item\"><div class=\"sk-estimator sk-toggleable\"><input class=\"sk-toggleable__control sk-hidden--visually\" id=\"sk-estimator-id-14\" type=\"checkbox\" ><label for=\"sk-estimator-id-14\" class=\"sk-toggleable__label sk-toggleable__label-arrow\">RandomForestClassifier</label><div class=\"sk-toggleable__content\"><pre>RandomForestClassifier()</pre></div></div></div></div></div></div></div></div></div></div>"
      ],
      "text/plain": [
       "GridSearchCV(cv=5, estimator=RandomForestClassifier(), n_jobs=6,\n",
       "             param_grid={'max_depth': [2, 4, 8, 16, 32, None],\n",
       "                         'n_estimators': [8, 16, 32, 64, 128, 256]},\n",
       "             verbose=3)"
      ]
     },
     "execution_count": 129,
     "metadata": {},
     "output_type": "execute_result"
    }
   ],
   "source": [
    "grid_cv.fit(X_train, y_train)"
   ]
  },
  {
   "cell_type": "code",
   "execution_count": 130,
   "id": "cfd5767d-2815-4571-8333-ae844891b7cb",
   "metadata": {},
   "outputs": [],
   "source": [
    "best_param = grid_cv.best_estimator_"
   ]
  },
  {
   "cell_type": "code",
   "execution_count": 131,
   "id": "e2933d62-d950-49c4-9f41-5813de94c20f",
   "metadata": {},
   "outputs": [
    {
     "data": {
      "text/plain": [
       "0.8904109589041096"
      ]
     },
     "execution_count": 131,
     "metadata": {},
     "output_type": "execute_result"
    }
   ],
   "source": [
    "best_param.score(X_test, y_test)"
   ]
  },
  {
   "cell_type": "code",
   "execution_count": 132,
   "id": "71f6cce1-30e3-4cd2-a120-c266504a381f",
   "metadata": {},
   "outputs": [],
   "source": [
    "y_pd = best_param.predict(X_test)"
   ]
  },
  {
   "cell_type": "code",
   "execution_count": 133,
   "id": "4cdd5109-dca7-4915-85d0-2820ced5583a",
   "metadata": {},
   "outputs": [],
   "source": [
    "## Confusion Matrix"
   ]
  },
  {
   "cell_type": "code",
   "execution_count": 134,
   "id": "057287f8-3d34-4aa4-b417-146ab981c7fe",
   "metadata": {},
   "outputs": [],
   "source": [
    "cm_rfr =metrics.confusion_matrix(y_test, y_pd)"
   ]
  },
  {
   "cell_type": "code",
   "execution_count": 135,
   "id": "750430e1-a227-408b-9eb5-9bbbbb5cb1c8",
   "metadata": {},
   "outputs": [],
   "source": [
    "cm_dis= metrics.ConfusionMatrixDisplay(confusion_matrix = cm_rfr, \n",
    "                                      display_labels= grid_cv.classes_)"
   ]
  },
  {
   "cell_type": "code",
   "execution_count": 136,
   "id": "a14cb893-033d-4c3f-8f50-59598fbc98c7",
   "metadata": {},
   "outputs": [
    {
     "data": {
      "text/plain": [
       "<sklearn.metrics._plot.confusion_matrix.ConfusionMatrixDisplay at 0x7f65d5469c70>"
      ]
     },
     "execution_count": 136,
     "metadata": {},
     "output_type": "execute_result"
    },
    {
     "data": {
      "image/png": "[encoded data removed]",
      "text/plain": [
       "<Figure size 640x480 with 2 Axes>"
      ]
     },
     "metadata": {},
     "output_type": "display_data"
    },
    {
     "name": "stdout",
     "output_type": "stream",
     "text": [
      "[CV 5/5] END .......max_depth=2, n_estimators=8;, score=0.581 total time=   0.0s\n",
      "[CV 5/5] END ......max_depth=2, n_estimators=64;, score=0.651 total time=   0.2s\n",
      "[CV 1/5] END .....max_depth=2, n_estimators=256;, score=0.727 total time=   0.7s\n",
      "[CV 3/5] END ......max_depth=4, n_estimators=64;, score=0.860 total time=   0.2s\n",
      "[CV 3/5] END .....max_depth=4, n_estimators=128;, score=0.860 total time=   0.4s\n",
      "[CV 4/5] END .....max_depth=4, n_estimators=256;, score=0.837 total time=   0.8s\n",
      "[CV 4/5] END .....max_depth=8, n_estimators=128;, score=0.930 total time=   0.4s\n",
      "[CV 5/5] END .....max_depth=8, n_estimators=256;, score=0.907 total time=   0.9s\n",
      "[CV 1/5] END ....max_depth=16, n_estimators=256;, score=0.886 total time=   0.9s\n",
      "[CV 1/5] END .....max_depth=32, n_estimators=64;, score=0.864 total time=   0.2s\n",
      "[CV 2/5] END ....max_depth=32, n_estimators=128;, score=0.907 total time=   0.4s\n",
      "[CV 4/5] END ....max_depth=32, n_estimators=256;, score=0.884 total time=   0.9s\n",
      "[CV 4/5] END ..max_depth=None, n_estimators=128;, score=0.907 total time=   0.4s\n",
      "[CV 1/5] END .......max_depth=2, n_estimators=8;, score=0.614 total time=   0.0s\n",
      "[CV 2/5] END ......max_depth=2, n_estimators=16;, score=0.884 total time=   0.0s\n",
      "[CV 3/5] END ......max_depth=2, n_estimators=16;, score=0.698 total time=   0.0s\n",
      "[CV 4/5] END ......max_depth=2, n_estimators=16;, score=0.651 total time=   0.0s\n",
      "[CV 5/5] END ......max_depth=2, n_estimators=16;, score=0.674 total time=   0.0s\n",
      "[CV 2/5] END ......max_depth=2, n_estimators=32;, score=0.767 total time=   0.1s\n",
      "[CV 4/5] END ......max_depth=2, n_estimators=32;, score=0.791 total time=   0.1s\n",
      "[CV 1/5] END ......max_depth=2, n_estimators=64;, score=0.750 total time=   0.1s\n",
      "[CV 1/5] END .....max_depth=2, n_estimators=128;, score=0.795 total time=   0.2s\n",
      "[CV 2/5] END .....max_depth=2, n_estimators=256;, score=0.884 total time=   0.4s\n",
      "[CV 2/5] END ......max_depth=4, n_estimators=16;, score=0.814 total time=   0.0s\n",
      "[CV 4/5] END ......max_depth=4, n_estimators=16;, score=0.814 total time=   0.0s\n",
      "[CV 2/5] END ......max_depth=4, n_estimators=32;, score=0.791 total time=   0.1s\n",
      "[CV 5/5] END ......max_depth=4, n_estimators=32;, score=0.791 total time=   0.1s\n",
      "[CV 4/5] END ......max_depth=4, n_estimators=64;, score=0.814 total time=   0.2s\n",
      "[CV 5/5] END .....max_depth=4, n_estimators=128;, score=0.814 total time=   0.4s\n",
      "[CV 1/5] END .......max_depth=8, n_estimators=8;, score=0.750 total time=   0.0s\n",
      "[CV 2/5] END .......max_depth=8, n_estimators=8;, score=0.791 total time=   0.0s\n",
      "[CV 3/5] END .......max_depth=8, n_estimators=8;, score=0.721 total time=   0.0s\n",
      "[CV 4/5] END .......max_depth=8, n_estimators=8;, score=0.744 total time=   0.0s\n",
      "[CV 5/5] END .......max_depth=8, n_estimators=8;, score=0.837 total time=   0.0s\n",
      "[CV 1/5] END ......max_depth=8, n_estimators=16;, score=0.818 total time=   0.1s\n",
      "[CV 2/5] END ......max_depth=8, n_estimators=16;, score=0.837 total time=   0.1s\n",
      "[CV 3/5] END ......max_depth=8, n_estimators=16;, score=0.837 total time=   0.1s\n",
      "[CV 5/5] END ......max_depth=8, n_estimators=16;, score=0.930 total time=   0.1s\n",
      "[CV 4/5] END ......max_depth=8, n_estimators=32;, score=0.860 total time=   0.1s\n",
      "[CV 3/5] END ......max_depth=8, n_estimators=64;, score=0.907 total time=   0.2s\n",
      "[CV 2/5] END .....max_depth=8, n_estimators=128;, score=0.930 total time=   0.2s\n",
      "[CV 3/5] END .....max_depth=8, n_estimators=256;, score=0.884 total time=   0.6s\n",
      "[CV 4/5] END .....max_depth=16, n_estimators=16;, score=0.860 total time=   0.1s\n",
      "[CV 2/5] END .....max_depth=16, n_estimators=32;, score=0.907 total time=   0.1s\n",
      "[CV 5/5] END .....max_depth=16, n_estimators=32;, score=0.884 total time=   0.1s\n",
      "[CV 4/5] END .....max_depth=16, n_estimators=64;, score=0.884 total time=   0.1s\n",
      "[CV 1/5] END ....max_depth=16, n_estimators=128;, score=0.886 total time=   0.3s\n",
      "[CV 2/5] END ....max_depth=16, n_estimators=256;, score=0.953 total time=   0.6s\n",
      "[CV 2/5] END .....max_depth=32, n_estimators=16;, score=0.907 total time=   0.0s\n",
      "[CV 4/5] END .....max_depth=32, n_estimators=16;, score=0.884 total time=   0.0s\n",
      "[CV 1/5] END .....max_depth=32, n_estimators=32;, score=0.886 total time=   0.1s\n",
      "[CV 4/5] END .....max_depth=32, n_estimators=32;, score=0.884 total time=   0.1s\n",
      "[CV 2/5] END .....max_depth=32, n_estimators=64;, score=0.907 total time=   0.1s\n",
      "[CV 5/5] END .....max_depth=32, n_estimators=64;, score=0.907 total time=   0.2s\n",
      "[CV 4/5] END ....max_depth=32, n_estimators=128;, score=0.907 total time=   0.3s\n",
      "[CV 3/5] END ....max_depth=32, n_estimators=256;, score=0.907 total time=   0.6s\n",
      "[CV 3/5] END ...max_depth=None, n_estimators=32;, score=0.884 total time=   0.1s\n",
      "[CV 5/5] END ...max_depth=None, n_estimators=32;, score=0.953 total time=   0.1s\n",
      "[CV 4/5] END ...max_depth=None, n_estimators=64;, score=0.884 total time=   0.2s\n",
      "[CV 1/5] END ..max_depth=None, n_estimators=128;, score=0.909 total time=   0.3s\n",
      "[CV 2/5] END ..max_depth=None, n_estimators=256;, score=0.953 total time=   0.6s\n",
      "[CV 1/5] END ......max_depth=2, n_estimators=16;, score=0.614 total time=   0.0s\n",
      "[CV 3/5] END .....max_depth=2, n_estimators=128;, score=0.791 total time=   0.3s\n",
      "[CV 4/5] END .....max_depth=2, n_estimators=256;, score=0.837 total time=   0.7s\n",
      "[CV 1/5] END .....max_depth=4, n_estimators=256;, score=0.773 total time=   0.8s\n",
      "[CV 3/5] END ......max_depth=8, n_estimators=32;, score=0.884 total time=   0.1s\n",
      "[CV 2/5] END ......max_depth=8, n_estimators=64;, score=0.907 total time=   0.2s\n",
      "[CV 3/5] END .....max_depth=8, n_estimators=128;, score=0.907 total time=   0.4s\n",
      "[CV 4/5] END .....max_depth=8, n_estimators=256;, score=0.907 total time=   0.9s\n",
      "[CV 5/5] END ....max_depth=16, n_estimators=128;, score=0.907 total time=   0.4s\n",
      "[CV 1/5] END ......max_depth=32, n_estimators=8;, score=0.864 total time=   0.0s\n",
      "[CV 2/5] END ......max_depth=32, n_estimators=8;, score=0.837 total time=   0.0s\n",
      "[CV 3/5] END ......max_depth=32, n_estimators=8;, score=0.814 total time=   0.0s\n",
      "[CV 4/5] END ......max_depth=32, n_estimators=8;, score=0.837 total time=   0.0s\n",
      "[CV 5/5] END ......max_depth=32, n_estimators=8;, score=0.791 total time=   0.0s\n",
      "[CV 1/5] END .....max_depth=32, n_estimators=16;, score=0.841 total time=   0.1s\n",
      "[CV 3/5] END .....max_depth=32, n_estimators=16;, score=0.837 total time=   0.1s\n",
      "[CV 5/5] END .....max_depth=32, n_estimators=16;, score=0.884 total time=   0.1s\n",
      "[CV 2/5] END .....max_depth=32, n_estimators=32;, score=0.930 total time=   0.1s\n",
      "[CV 3/5] END .....max_depth=32, n_estimators=64;, score=0.930 total time=   0.2s\n",
      "[CV 3/5] END ....max_depth=32, n_estimators=128;, score=0.837 total time=   0.4s\n",
      "[CV 5/5] END ....max_depth=32, n_estimators=256;, score=0.953 total time=   0.9s\n",
      "[CV 1/5] END ..max_depth=None, n_estimators=256;, score=0.886 total time=   0.7s\n",
      "[CV 4/5] END .......max_depth=2, n_estimators=8;, score=0.651 total time=   0.0s\n",
      "[CV 4/5] END ......max_depth=2, n_estimators=64;, score=0.814 total time=   0.2s\n",
      "[CV 5/5] END .....max_depth=2, n_estimators=128;, score=0.721 total time=   0.3s\n",
      "[CV 1/5] END .......max_depth=4, n_estimators=8;, score=0.682 total time=   0.0s\n",
      "[CV 2/5] END .......max_depth=4, n_estimators=8;, score=0.628 total time=   0.0s\n",
      "[CV 3/5] END .......max_depth=4, n_estimators=8;, score=0.628 total time=   0.0s\n",
      "[CV 4/5] END .......max_depth=4, n_estimators=8;, score=0.698 total time=   0.0s\n",
      "[CV 5/5] END .......max_depth=4, n_estimators=8;, score=0.674 total time=   0.0s\n",
      "[CV 1/5] END ......max_depth=4, n_estimators=16;, score=0.841 total time=   0.0s\n",
      "[CV 5/5] END ......max_depth=4, n_estimators=16;, score=0.698 total time=   0.1s\n",
      "[CV 3/5] END ......max_depth=4, n_estimators=32;, score=0.791 total time=   0.1s\n",
      "[CV 1/5] END ......max_depth=4, n_estimators=64;, score=0.705 total time=   0.2s\n",
      "[CV 2/5] END .....max_depth=4, n_estimators=128;, score=0.907 total time=   0.3s\n",
      "[CV 3/5] END .....max_depth=4, n_estimators=256;, score=0.860 total time=   0.5s\n",
      "[CV 4/5] END ......max_depth=8, n_estimators=16;, score=0.884 total time=   0.0s\n",
      "[CV 2/5] END ......max_depth=8, n_estimators=32;, score=0.884 total time=   0.1s\n",
      "[CV 1/5] END ......max_depth=8, n_estimators=64;, score=0.818 total time=   0.2s\n",
      "[CV 1/5] END .....max_depth=8, n_estimators=128;, score=0.795 total time=   0.2s\n",
      "[CV 2/5] END .....max_depth=8, n_estimators=256;, score=0.907 total time=   0.6s\n",
      "[CV 3/5] END .....max_depth=16, n_estimators=16;, score=0.884 total time=   0.1s\n",
      "[CV 1/5] END .....max_depth=16, n_estimators=32;, score=0.909 total time=   0.1s\n",
      "[CV 4/5] END .....max_depth=16, n_estimators=32;, score=0.860 total time=   0.1s\n",
      "[CV 2/5] END .....max_depth=16, n_estimators=64;, score=0.930 total time=   0.1s\n",
      "[CV 5/5] END .....max_depth=16, n_estimators=64;, score=0.953 total time=   0.1s\n",
      "[CV 4/5] END ....max_depth=16, n_estimators=128;, score=0.860 total time=   0.3s\n",
      "[CV 3/5] END ....max_depth=16, n_estimators=256;, score=0.884 total time=   0.6s\n",
      "[CV 3/5] END .....max_depth=32, n_estimators=32;, score=0.930 total time=   0.1s\n",
      "[CV 5/5] END .....max_depth=32, n_estimators=32;, score=0.977 total time=   0.1s\n",
      "[CV 4/5] END .....max_depth=32, n_estimators=64;, score=0.884 total time=   0.2s\n",
      "[CV 1/5] END ....max_depth=32, n_estimators=128;, score=0.864 total time=   0.3s\n",
      "[CV 2/5] END ....max_depth=32, n_estimators=256;, score=0.907 total time=   0.6s\n",
      "[CV 3/5] END ...max_depth=None, n_estimators=16;, score=0.884 total time=   0.0s\n",
      "[CV 5/5] END ...max_depth=None, n_estimators=16;, score=0.930 total time=   0.0s\n",
      "[CV 1/5] END ...max_depth=None, n_estimators=32;, score=0.886 total time=   0.1s\n",
      "[CV 4/5] END ...max_depth=None, n_estimators=32;, score=0.884 total time=   0.1s\n",
      "[CV 3/5] END ...max_depth=None, n_estimators=64;, score=0.860 total time=   0.2s\n",
      "[CV 5/5] END ...max_depth=None, n_estimators=64;, score=0.977 total time=   0.1s\n",
      "[CV 5/5] END ..max_depth=None, n_estimators=128;, score=0.930 total time=   0.3s\n",
      "[CV 3/5] END ..max_depth=None, n_estimators=256;, score=0.884 total time=   0.6s\n",
      "[CV 2/5] END .......max_depth=2, n_estimators=8;, score=0.698 total time=   0.0s\n",
      "[CV 3/5] END ......max_depth=2, n_estimators=64;, score=0.767 total time=   0.2s\n",
      "[CV 4/5] END .....max_depth=2, n_estimators=128;, score=0.791 total time=   0.3s\n",
      "[CV 5/5] END .....max_depth=2, n_estimators=256;, score=0.721 total time=   0.5s\n",
      "[CV 1/5] END .....max_depth=4, n_estimators=128;, score=0.795 total time=   0.3s\n",
      "[CV 2/5] END .....max_depth=4, n_estimators=256;, score=0.884 total time=   0.6s\n",
      "[CV 1/5] END ......max_depth=8, n_estimators=32;, score=0.818 total time=   0.1s\n",
      "[CV 5/5] END ......max_depth=8, n_estimators=32;, score=0.814 total time=   0.1s\n",
      "[CV 4/5] END ......max_depth=8, n_estimators=64;, score=0.860 total time=   0.2s\n",
      "[CV 5/5] END .....max_depth=8, n_estimators=128;, score=0.930 total time=   0.4s\n",
      "[CV 1/5] END ......max_depth=16, n_estimators=8;, score=0.818 total time=   0.0s\n",
      "[CV 2/5] END ......max_depth=16, n_estimators=8;, score=0.860 total time=   0.0s\n",
      "[CV 3/5] END ......max_depth=16, n_estimators=8;, score=0.837 total time=   0.0s\n",
      "[CV 4/5] END ......max_depth=16, n_estimators=8;, score=0.744 total time=   0.0s\n",
      "[CV 5/5] END ......max_depth=16, n_estimators=8;, score=0.860 total time=   0.0s\n",
      "[CV 1/5] END .....max_depth=16, n_estimators=16;, score=0.932 total time=   0.1s\n",
      "[CV 2/5] END .....max_depth=16, n_estimators=16;, score=0.860 total time=   0.1s\n",
      "[CV 5/5] END .....max_depth=16, n_estimators=16;, score=0.907 total time=   0.1s\n",
      "[CV 3/5] END .....max_depth=16, n_estimators=32;, score=0.884 total time=   0.1s\n",
      "[CV 3/5] END .....max_depth=16, n_estimators=64;, score=0.907 total time=   0.2s\n",
      "[CV 3/5] END ....max_depth=16, n_estimators=128;, score=0.860 total time=   0.4s\n",
      "[CV 5/5] END ....max_depth=16, n_estimators=256;, score=0.907 total time=   0.9s\n",
      "[CV 1/5] END ....max_depth=32, n_estimators=256;, score=0.864 total time=   0.9s\n",
      "[CV 1/5] END ...max_depth=None, n_estimators=64;, score=0.886 total time=   0.2s\n",
      "[CV 2/5] END ..max_depth=None, n_estimators=128;, score=0.884 total time=   0.4s\n",
      "[CV 4/5] END ..max_depth=None, n_estimators=256;, score=0.884 total time=   0.8s\n",
      "[CV 3/5] END .......max_depth=2, n_estimators=8;, score=0.581 total time=   0.0s\n",
      "[CV 1/5] END ......max_depth=2, n_estimators=32;, score=0.523 total time=   0.1s\n",
      "[CV 3/5] END ......max_depth=2, n_estimators=32;, score=0.814 total time=   0.1s\n",
      "[CV 5/5] END ......max_depth=2, n_estimators=32;, score=0.698 total time=   0.1s\n",
      "[CV 2/5] END ......max_depth=2, n_estimators=64;, score=0.814 total time=   0.1s\n",
      "[CV 2/5] END .....max_depth=2, n_estimators=128;, score=0.884 total time=   0.2s\n",
      "[CV 3/5] END .....max_depth=2, n_estimators=256;, score=0.837 total time=   0.4s\n",
      "[CV 3/5] END ......max_depth=4, n_estimators=16;, score=0.721 total time=   0.0s\n",
      "[CV 1/5] END ......max_depth=4, n_estimators=32;, score=0.682 total time=   0.1s\n",
      "[CV 4/5] END ......max_depth=4, n_estimators=32;, score=0.674 total time=   0.1s\n",
      "[CV 2/5] END ......max_depth=4, n_estimators=64;, score=0.837 total time=   0.1s\n",
      "[CV 5/5] END ......max_depth=4, n_estimators=64;, score=0.791 total time=   0.1s\n",
      "[CV 4/5] END .....max_depth=4, n_estimators=128;, score=0.884 total time=   0.4s\n",
      "[CV 5/5] END .....max_depth=4, n_estimators=256;, score=0.860 total time=   0.7s\n",
      "[CV 5/5] END ......max_depth=8, n_estimators=64;, score=0.884 total time=   0.2s\n",
      "[CV 1/5] END .....max_depth=8, n_estimators=256;, score=0.864 total time=   0.9s\n",
      "[CV 1/5] END .....max_depth=16, n_estimators=64;, score=0.864 total time=   0.2s\n",
      "[CV 2/5] END ....max_depth=16, n_estimators=128;, score=0.953 total time=   0.4s\n",
      "[CV 4/5] END ....max_depth=16, n_estimators=256;, score=0.907 total time=   0.9s\n",
      "[CV 5/5] END ....max_depth=32, n_estimators=128;, score=0.884 total time=   0.4s\n",
      "[CV 1/5] END ....max_depth=None, n_estimators=8;, score=0.818 total time=   0.0s\n",
      "[CV 2/5] END ....max_depth=None, n_estimators=8;, score=0.884 total time=   0.0s\n",
      "[CV 3/5] END ....max_depth=None, n_estimators=8;, score=0.837 total time=   0.0s\n",
      "[CV 4/5] END ....max_depth=None, n_estimators=8;, score=0.791 total time=   0.0s\n",
      "[CV 5/5] END ....max_depth=None, n_estimators=8;, score=0.860 total time=   0.0s\n",
      "[CV 1/5] END ...max_depth=None, n_estimators=16;, score=0.886 total time=   0.1s\n",
      "[CV 2/5] END ...max_depth=None, n_estimators=16;, score=0.907 total time=   0.1s\n",
      "[CV 4/5] END ...max_depth=None, n_estimators=16;, score=0.907 total time=   0.1s\n",
      "[CV 2/5] END ...max_depth=None, n_estimators=32;, score=0.977 total time=   0.1s\n",
      "[CV 2/5] END ...max_depth=None, n_estimators=64;, score=0.907 total time=   0.2s\n",
      "[CV 3/5] END ..max_depth=None, n_estimators=128;, score=0.860 total time=   0.4s\n",
      "[CV 5/5] END ..max_depth=None, n_estimators=256;, score=0.930 total time=   0.8s\n"
     ]
    }
   ],
   "source": [
    "cm_dis.plot()"
   ]
  },
  {
   "cell_type": "markdown",
   "id": "e413f3a3-93e3-4b53-923a-d720fd188203",
   "metadata": {},
   "source": [
    "### Naive Bayes"
   ]
  },
  {
   "cell_type": "code",
   "execution_count": null,
   "id": "2e47c302-032d-4a97-bcec-ff150278629d",
   "metadata": {},
   "outputs": [],
   "source": []
  },
  {
   "cell_type": "markdown",
   "id": "e9951472-a43a-4df5-a96d-7b13fdc3c61e",
   "metadata": {},
   "source": [
    "### Prediction for new lyrics"
   ]
  },
  {
   "cell_type": "raw",
   "id": "06027558-7b11-43ad-a8a4-a8ec5ec69ea7",
   "metadata": {},
   "source": [
    "new_song = []"
   ]
  },
  {
   "cell_type": "raw",
   "id": "8cadd9ff-8281-44dc-804e-26e391513d04",
   "metadata": {},
   "source": [
    "counts = vectorizer.transform(new_song)\n",
    "tfcounts = tf.transform(counts)\n",
    "m.predict(tfcounts)"
   ]
  },
  {
   "cell_type": "code",
   "execution_count": null,
   "id": "d9722a5f-5a47-42fc-bad6-70d6995741d6",
   "metadata": {},
   "outputs": [],
   "source": [
    "pipeline = "
   ]
  },
  {
   "cell_type": "code",
   "execution_count": null,
   "id": "ef2de3b3-0349-4621-9921-a4ee97c87f8b",
   "metadata": {},
   "outputs": [],
   "source": []
  },
  {
   "cell_type": "code",
   "execution_count": null,
   "id": "a1ced82f-afb2-4804-9b67-291dbbd607c3",
   "metadata": {},
   "outputs": [],
   "source": []
  },
  {
   "cell_type": "code",
   "execution_count": null,
   "id": "57e5969f-49c3-41c6-966f-eb875c2ad564",
   "metadata": {},
   "outputs": [],
   "source": []
  }
 ],
 "metadata": {
  "kernelspec": {
   "display_name": "Python 3 (ipykernel)",
   "language": "python",
   "name": "python3"
  },
  "language_info": {
   "codemirror_mode": {
    "name": "ipython",
    "version": 3
   },
   "file_extension": ".py",
   "mimetype": "text/x-python",
   "name": "python",
   "nbconvert_exporter": "python",
   "pygments_lexer": "ipython3",
   "version": "3.9.13"
  }
 },
 "nbformat": 4,
 "nbformat_minor": 5
}
