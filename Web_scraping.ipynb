{
 "cells": [
  {
   "cell_type": "raw",
   "id": "091291d3-63a2-41c6-921b-253756bac9c1",
   "metadata": {},
   "source": [
    "Project Description \n",
    "In this project, we will build a text classification model on song lyrics. \n",
    "The task is to predict the artist from a piece of text"
   ]
  },
  {
   "cell_type": "code",
   "execution_count": 1,
   "id": "163d477c-bf7e-490b-ae16-12ff60b72ee4",
   "metadata": {},
   "outputs": [
    {
     "name": "stdout",
     "output_type": "stream",
     "text": [
      "cores available: 8 \n",
      "cores to be used: 6\n"
     ]
    }
   ],
   "source": [
    "# CPU USAGE\n",
    "\n",
    "import multiprocessing\n",
    "\n",
    "num_cores = multiprocessing.cpu_count()\n",
    "cores_you_need_to_be_free = 2\n",
    "cores_to_use = num_cores - cores_you_need_to_be_free\n",
    "print('cores available:', num_cores,\n",
    "      '\\ncores to be used:', cores_to_use\n",
    "     )"
   ]
  },
  {
   "cell_type": "markdown",
   "id": "40be3655-b557-43b7-9ed4-d3cd0b8a26ff",
   "metadata": {},
   "source": [
    "# Download a web page"
   ]
  },
  {
   "cell_type": "code",
   "execution_count": 2,
   "id": "0565305d-ab70-46bb-91db-1d3b9c3dbee0",
   "metadata": {},
   "outputs": [],
   "source": [
    "import requests\n",
    "import pandas as pd"
   ]
  },
  {
   "cell_type": "code",
   "execution_count": 3,
   "id": "24fc5979-9cee-41a5-84ab-a329d35e8069",
   "metadata": {},
   "outputs": [],
   "source": [
    "#Requests allows to send HTTP requests to website/servers. It sends back a response code, and the full html (if successful)."
   ]
  },
  {
   "cell_type": "code",
   "execution_count": 4,
   "id": "ccfbb784-fdd2-4cff-a9fe-8f72254b2df6",
   "metadata": {},
   "outputs": [],
   "source": [
    "URL = 'https://www.lyrics.com/artist/Linkin-Park/447095'#'https://www.lyrics.com/artist/Imagine-Dragons/1184089'#, 'https://www.lyrics.com/artist/Bob-Marley/2907']#,\n",
    "      #  'https://www.lyrics.com/artist/Linkin-Park/447095'] \n"
   ]
  },
  {
   "cell_type": "raw",
   "id": "07fce79a-8101-40b2-84a5-ed552ab9a671",
   "metadata": {},
   "source": [
    "Most web server try to detect and block web scraping attempts. To stay undetected you can try the following:\n",
    "\n",
    "    Set a real user agent and other header to appear legit (headers can be found Here: https://github.com/tamimibrahim17/List-of-user-agents)"
   ]
  },
  {
   "cell_type": "code",
   "execution_count": 5,
   "id": "e8e5e55e-0e65-45da-b183-6e5930a1f6c2",
   "metadata": {},
   "outputs": [],
   "source": [
    "headers = {'User-agent': 'Mozilla/5.0 (X11; Linux i686; rv:2.0b10) Gecko/20100101 Firefox/4.0b10'}\n"
   ]
  },
  {
   "cell_type": "markdown",
   "id": "72f09e83-0382-419d-a5a7-80d95e2e9f99",
   "metadata": {},
   "source": [
    "## Write HTML into text file   "
   ]
  },
  {
   "cell_type": "raw",
   "id": "110d1294-1d19-47a1-8efc-655ea9f5766a",
   "metadata": {},
   "source": [
    "## Use a sleep or waiting time between requests - to reduce the time between request"
   ]
  },
  {
   "cell_type": "code",
   "execution_count": 19,
   "id": "151bc0f7-73eb-440b-958d-1d6e63ee29fc",
   "metadata": {},
   "outputs": [],
   "source": [
    "import time\n",
    "import numpy as np\n",
    "import os\n",
    "from bs4 import BeautifulSoup\n",
    "import re"
   ]
  },
  {
   "cell_type": "raw",
   "id": "1913b3a2-12a1-4597-9f77-885191a61065",
   "metadata": {},
   "source": [
    "if os.path.exists('html_data/artist.txt'):\n",
    "    os.remove('html_data/artist.txt')"
   ]
  },
  {
   "cell_type": "raw",
   "id": "74a6c26b-0fc0-4a5d-b27c-bc5e98a8bd7d",
   "metadata": {},
   "source": [
    "\n",
    "for i in range(len(URL)):\n",
    "    response = requests.get(url=URL[i], headers=headers)\n",
    "    print(response.status_code)\n",
    "    f = open('html_data/songs_html.txt', 'a')\n",
    "    f.write(response.text)\n",
    "    time.sleep(5)\n",
    "\n",
    "f.close()\n",
    "    "
   ]
  },
  {
   "cell_type": "code",
   "execution_count": 7,
   "id": "8631d1dd-93c7-4f6e-be3e-8261a7e788a1",
   "metadata": {},
   "outputs": [
    {
     "name": "stdout",
     "output_type": "stream",
     "text": [
      "200\n"
     ]
    }
   ],
   "source": [
    "if os.path.exists('html_data/artist.txt'):\n",
    "    os.remove('html_data/artist.txt')\n",
    "#for i in range(len(URL)):\n",
    "response =requests.get(url=URL, headers=headers)\n",
    "if response:\n",
    "    print(response.status_code)\n",
    "with open('html_data/artist.txt', 'a') as file:\n",
    "    file.write(response.text)\n",
    "time.sleep(5)\n",
    "                \n"
   ]
  },
  {
   "cell_type": "markdown",
   "id": "8fa58f00-4f60-4680-81de-c0be48008b17",
   "metadata": {},
   "source": [
    "## Regular Expression"
   ]
  },
  {
   "cell_type": "code",
   "execution_count": null,
   "id": "c9ee949f-132b-4e56-be5e-871607c8ce22",
   "metadata": {},
   "outputs": [],
   "source": []
  },
  {
   "cell_type": "code",
   "execution_count": 8,
   "id": "cac1982b-06e8-445e-9344-8b82d6e4bf00",
   "metadata": {},
   "outputs": [],
   "source": [
    "## open the file contenaining HTML for read "
   ]
  },
  {
   "cell_type": "raw",
   "id": "15eae9c6-8ddd-4bad-a041-31cbd609fe5b",
   "metadata": {},
   "source": [
    "file = open('html_data/artist_html.txt', 'r')\n",
    "songs = file.read()\n",
    "file.close()"
   ]
  },
  {
   "cell_type": "raw",
   "id": "5087be3d-ad9b-47e5-ae0e-390da07b9b74",
   "metadata": {},
   "source": [
    "songs = re.findall(r'<a href=\"/lyric/[A-z+/%0-9]*\">', songs)"
   ]
  },
  {
   "cell_type": "raw",
   "id": "e540615c-134a-4e12-840a-88ddf4161d95",
   "metadata": {},
   "source": [
    "songs"
   ]
  },
  {
   "cell_type": "markdown",
   "id": "281fed29-0b1c-4027-adae-928ed4e091bc",
   "metadata": {},
   "source": [
    "## Beautiful Soup"
   ]
  },
  {
   "cell_type": "code",
   "execution_count": 9,
   "id": "e0714ed5-b5b0-4674-9b4a-5c78184e7cea",
   "metadata": {},
   "outputs": [],
   "source": [
    "#pip install beautifulsoup4"
   ]
  },
  {
   "cell_type": "code",
   "execution_count": 10,
   "id": "eb5e735e-cc56-4a17-9ca5-917422728960",
   "metadata": {},
   "outputs": [],
   "source": [
    "#Convert the raw HTML string to a BeautifulSoup object, so that we can parse the data."
   ]
  },
  {
   "cell_type": "code",
   "execution_count": null,
   "id": "77d923e7-e4ee-4931-bb84-ff911155c0ca",
   "metadata": {},
   "outputs": [],
   "source": []
  },
  {
   "cell_type": "code",
   "execution_count": 11,
   "id": "976c42ae-7333-4e8a-acf0-df1fc2acc7e5",
   "metadata": {},
   "outputs": [],
   "source": [
    "#open text file contenaining  artist html\n",
    "with open ('html_data/artist.txt') as file:\n",
    "    artist_soup = BeautifulSoup(file, 'html.parser')\n"
   ]
  },
  {
   "cell_type": "code",
   "execution_count": 12,
   "id": "62c9f3da-6095-4427-b2f0-925c355a53ba",
   "metadata": {},
   "outputs": [],
   "source": [
    "#print(song_soup) ## file is too large to be printed -- return \"IOPub data rate exceeded.\""
   ]
  },
  {
   "cell_type": "code",
   "execution_count": 13,
   "id": "3cf42689-393a-4dfc-a26b-7785963c6b0e",
   "metadata": {},
   "outputs": [],
   "source": [
    "#song_soup.body.find('strong').get_text() ## strong contains artists and links to lyrics"
   ]
  },
  {
   "cell_type": "markdown",
   "id": "561437ab-0e43-42fa-a1ea-2e71ca1e0e6f",
   "metadata": {},
   "source": [
    "### Extract lyrics link"
   ]
  },
  {
   "cell_type": "code",
   "execution_count": 14,
   "id": "57dcd55c-6971-4f6f-8b4f-679256a601a4",
   "metadata": {},
   "outputs": [],
   "source": [
    "links=[]\n",
    "for link in artist_soup.body.find_all('strong'):\n",
    "    if link.a is not None:\n",
    "        links.append(link.a['href'])"
   ]
  },
  {
   "cell_type": "code",
   "execution_count": 16,
   "id": "fff4013a-2748-4dc0-bafd-53b5ebbfdc38",
   "metadata": {},
   "outputs": [],
   "source": [
    "#links"
   ]
  },
  {
   "cell_type": "markdown",
   "id": "497eb4af-4f04-4d98-abb2-7eaee7055e8e",
   "metadata": {},
   "source": [
    "### Download lyrics into file \n"
   ]
  },
  {
   "cell_type": "code",
   "execution_count": 19,
   "id": "84cb1e32-cad4-4801-b0a5-28f56b6e5369",
   "metadata": {},
   "outputs": [],
   "source": [
    "if os.path.exists('html_data/songs_html.txt'):\n",
    "    os.remove('html_data/songs_html.txt')\n",
    "\n",
    "for i in range(0,len(links)):\n",
    "    if len(links)<=100:\n",
    "        response =requests.get(url=URL+links[i], headers=headers)\n",
    "        if response.status_code != 200:\n",
    "            print (response.status_code)\n",
    "        with open('html_data/songs_html.txt', 'a') as file:\n",
    "            file.write(response.text)\n",
    "        time.sleep(2)\n",
    "    else:\n",
    "        if i < 100:\n",
    "            response =requests.get(url=URL+links[i], headers=headers)\n",
    "            if response.status_code != 200:\n",
    "                print(response.status_code)\n",
    "            with open('html_data/songs_html.txt', 'a') as file:\n",
    "                file.write(response.text)\n",
    "            time.sleep(2)\n",
    "            "
   ]
  },
  {
   "cell_type": "code",
   "execution_count": null,
   "id": "2fdde3ac-5220-4b38-b52b-4c5323714594",
   "metadata": {},
   "outputs": [],
   "source": [
    "#song_soup.body.find_all('strong')"
   ]
  },
  {
   "cell_type": "markdown",
   "id": "bd3b65ed-f89f-4666-8ed4-277ef14879d2",
   "metadata": {},
   "source": [
    "### Extract list of artist into a list "
   ]
  },
  {
   "cell_type": "code",
   "execution_count": 12,
   "id": "3e45d18b-de6b-4249-aeb2-14fc2e2706a1",
   "metadata": {},
   "outputs": [],
   "source": [
    "#[artist.text for artist in artist_soup.find_all(class_=\"artist\")]\n",
    "artist_list = []\n",
    "for artist in artist_soup.find_all(class_=\"artist\"):\n",
    "    artist_list.append(artist.text)"
   ]
  },
  {
   "cell_type": "code",
   "execution_count": 13,
   "id": "d6439f7f-ee5b-4c02-af92-598ad6517254",
   "metadata": {},
   "outputs": [
    {
     "data": {
      "text/plain": [
       "'Linkin Park'"
      ]
     },
     "execution_count": 13,
     "metadata": {},
     "output_type": "execute_result"
    }
   ],
   "source": [
    "artist_list[0]"
   ]
  },
  {
   "cell_type": "markdown",
   "id": "d14238e3-bccd-4722-873c-74fa3c11e180",
   "metadata": {},
   "source": [
    "### Extract lyrics from HTML file"
   ]
  },
  {
   "cell_type": "code",
   "execution_count": 23,
   "id": "624d350e-7f6f-4903-a484-5ff1a30d36bf",
   "metadata": {},
   "outputs": [],
   "source": [
    "with open ('html_data/songs_html.txt') as file:\n",
    "    song_soup = BeautifulSoup(file, 'html.parser')"
   ]
  },
  {
   "cell_type": "code",
   "execution_count": 32,
   "id": "cd84aaab-f05c-4dae-bc4e-3aa5a1e7f5bc",
   "metadata": {},
   "outputs": [],
   "source": [
    "lyrics=[]\n",
    "for song in song_soup.find_all(id='lyric-body-text'):\n",
    "    lyrics.append(song.text)"
   ]
  },
  {
   "cell_type": "code",
   "execution_count": 37,
   "id": "b90bb233-a9da-49b7-9803-4efad644a245",
   "metadata": {},
   "outputs": [
    {
     "data": {
      "text/plain": [
       "100"
      ]
     },
     "execution_count": 37,
     "metadata": {},
     "output_type": "execute_result"
    }
   ],
   "source": [
    "len(lyrics)"
   ]
  },
  {
   "cell_type": "markdown",
   "id": "6c1fd788-99c9-4fa9-bb38-00577227da9b",
   "metadata": {},
   "source": [
    "###  Create pandas dataframe "
   ]
  },
  {
   "cell_type": "code",
   "execution_count": null,
   "id": "06a9130d-ebff-4b17-a0ce-30b8d7c2af34",
   "metadata": {},
   "outputs": [],
   "source": [
    "lyric_file = pd.Dataframe({'artist':artist_list[0], 'lyrics': lyrics})"
   ]
  },
  {
   "cell_type": "code",
   "execution_count": null,
   "id": "bc317c50-a1dd-4973-9e78-611b6ed60e33",
   "metadata": {},
   "outputs": [],
   "source": []
  },
  {
   "cell_type": "markdown",
   "id": "ebc43672-11fb-4755-82b3-401ef026bc76",
   "metadata": {},
   "source": [
    "### Define a function"
   ]
  },
  {
   "cell_type": "raw",
   "id": "7aaf59a7-ef1b-4b30-bfd5-0ed4166ad045",
   "metadata": {},
   "source": [
    "### function should return two variables\n",
    "### variable 1 = artist and variable 2 =lyrics"
   ]
  },
  {
   "cell_type": "code",
   "execution_count": 25,
   "id": "9e68a082-5d94-4d3d-b206-a6334b83f66c",
   "metadata": {},
   "outputs": [],
   "source": [
    "def extract_artist (url):\n",
    "    \n",
    "    # function return artist and links to download lyrics\n",
    "    \n",
    "    link = url\n",
    "    headers = {'User-agent': 'Mozilla/5.0 (X11; Linux i686; rv:2.0b10) Gecko/20100101 Firefox/4.0b10'}\n",
    "    \n",
    "# extract artist page and store in txt file \n",
    "\n",
    "    if os.path.exists('html_data/artist_html.txt'):\n",
    "        os.remove('html_data/artist_html.txt')\n",
    "        \n",
    "    response =requests.get(url=link, headers=headers)\n",
    "    if response != 200:\n",
    "        print(response.status_code)\n",
    "    with open('html_data/artist.txt', 'a') as file:\n",
    "        file.write(response.text)\n",
    "    time.sleep(2)\n",
    "            \n",
    "# open the file created and sparse data with beautiful soup\n",
    "\n",
    "    with open ('html_data/artist.txt') as file:\n",
    "        artist_soup = BeautifulSoup(file, 'html.parser')\n",
    "        \n",
    "# Extract link to lyrics\n",
    "\n",
    "    links=[]\n",
    "    for lk in artist_soup.body.find_all('strong'):\n",
    "        if lk.a is not None:\n",
    "            links.append(lk.a['href'])\n",
    "            \n",
    "# Extract artist \n",
    "    artist_list = []\n",
    "    for artist in artist_soup.find_all(class_=\"artist\"):\n",
    "        artist_list.append(artist.text)\n",
    "            \n",
    "# return artist\n",
    "    return artist_list[0], links\n",
    "    "
   ]
  },
  {
   "cell_type": "code",
   "execution_count": 26,
   "id": "c35a3125-9ddc-4b69-855a-3dcdee791ca9",
   "metadata": {},
   "outputs": [],
   "source": [
    "def extract_lyrics (url, link):\n",
    "    # function return the lyrics of the artists\n",
    "    URL= url\n",
    "    links = link\n",
    "    headers = {'User-agent': 'Mozilla/5.0 (X11; Linux i686; rv:2.0b10) Gecko/20100101 Firefox/4.0b10'}\n",
    "   #check if file exist - if yes  suppress it \n",
    "\n",
    "    if os.path.exists('html_data/songs_html.txt'):\n",
    "        os.remove('html_data/songs_html.txt')\n",
    "        \n",
    "     # download lyrics \n",
    "    \n",
    "    for i in range(0,len(links)):\n",
    "        \n",
    "        if len(links)<=100:\n",
    "            response =requests.get(url=URL+links[i], headers=headers)\n",
    "            if response.status_code != 200:\n",
    "                print (response.status_code)\n",
    "            with open('html_data/songs_html.txt', 'a') as file:\n",
    "                file.write(response.text)\n",
    "            time.sleep(2)\n",
    "        else:\n",
    "            if i < 100:\n",
    "                response =requests.get(url=URL+links[i], headers=headers)\n",
    "                if response.status_code != 200:\n",
    "                    print(response.status_code)\n",
    "                with open('html_data/songs_html.txt', 'a') as file:\n",
    "                    file.write(response.text)\n",
    "                time.sleep(2)\n",
    "                \n",
    "                \n",
    "    # read lyrics with Beautiful soup \n",
    "    \n",
    "    with open ('html_data/songs_html.txt') as file:\n",
    "        song_soup = BeautifulSoup(file, 'html.parser')\n",
    "        \n",
    "    # Extract lyrics in a list \n",
    "    lyrics=[]\n",
    "    for song in song_soup.find_all(id='lyric-body-text'):\n",
    "        n_jobs=cores_to_use\n",
    "        lyrics.append(song.text)\n",
    "        \n",
    "    return lyrics\n",
    "    "
   ]
  },
  {
   "cell_type": "code",
   "execution_count": 36,
   "id": "bd823d15-eb6e-4abb-b015-7d2cccedd0cf",
   "metadata": {},
   "outputs": [],
   "source": [
    "def create_dataframe(artist, lyrics):\n",
    "    \n",
    "    #data = pd.DataFrame(columns=['artist', 'lyrics'])\n",
    "    \n",
    "    da = pd.DataFrame({'artist':artist, 'lyrics':lyrics})\n",
    "    #da.append(data, ignore_index=True)\n",
    "    return da"
   ]
  },
  {
   "cell_type": "code",
   "execution_count": 28,
   "id": "ef03fc94-5bf5-41e8-98d1-442f77fcdbe8",
   "metadata": {},
   "outputs": [],
   "source": [
    "url='https://www.lyrics.com/artist/Imagine-Dragons/1184089'"
   ]
  },
  {
   "cell_type": "code",
   "execution_count": 29,
   "id": "c021b18c-0d9b-44be-88da-aad5cba3d04e",
   "metadata": {},
   "outputs": [
    {
     "name": "stdout",
     "output_type": "stream",
     "text": [
      "200\n"
     ]
    }
   ],
   "source": [
    "artist , link = extract_artist (url)"
   ]
  },
  {
   "cell_type": "code",
   "execution_count": 30,
   "id": "c23da956-e1ef-48e8-a5da-c39bfe73df38",
   "metadata": {},
   "outputs": [
    {
     "data": {
      "text/plain": [
       "'Imagine Dragons'"
      ]
     },
     "execution_count": 30,
     "metadata": {},
     "output_type": "execute_result"
    }
   ],
   "source": [
    "artist"
   ]
  },
  {
   "cell_type": "code",
   "execution_count": 31,
   "id": "0d56ed20-d5ed-4797-bb8c-a5679ad8597b",
   "metadata": {},
   "outputs": [],
   "source": [
    "#link"
   ]
  },
  {
   "cell_type": "code",
   "execution_count": 32,
   "id": "200a3f92-b163-43a5-829d-16126509831b",
   "metadata": {},
   "outputs": [],
   "source": [
    "lyric = extract_lyrics (url, link)"
   ]
  },
  {
   "cell_type": "code",
   "execution_count": 33,
   "id": "fd115753-ac8b-4993-8ced-e167991aa827",
   "metadata": {},
   "outputs": [],
   "source": [
    "#lyric"
   ]
  },
  {
   "cell_type": "code",
   "execution_count": 37,
   "id": "50da35b1-b5ac-4aca-8d2e-b9a34b735446",
   "metadata": {},
   "outputs": [],
   "source": [
    "data = create_dataframe(artist, lyric)"
   ]
  },
  {
   "cell_type": "code",
   "execution_count": 38,
   "id": "919a441e-caa4-46bf-ae5d-fd43f3c4d480",
   "metadata": {},
   "outputs": [
    {
     "data": {
      "text/html": [
       "<div>\n",
       "<style scoped>\n",
       "    .dataframe tbody tr th:only-of-type {\n",
       "        vertical-align: middle;\n",
       "    }\n",
       "\n",
       "    .dataframe tbody tr th {\n",
       "        vertical-align: top;\n",
       "    }\n",
       "\n",
       "    .dataframe thead th {\n",
       "        text-align: right;\n",
       "    }\n",
       "</style>\n",
       "<table border=\"1\" class=\"dataframe\">\n",
       "  <thead>\n",
       "    <tr style=\"text-align: right;\">\n",
       "      <th></th>\n",
       "      <th>artist</th>\n",
       "      <th>lyrics</th>\n",
       "    </tr>\n",
       "  </thead>\n",
       "  <tbody>\n",
       "    <tr>\n",
       "      <th>0</th>\n",
       "      <td>Imagine Dragons</td>\n",
       "      <td>I'm calling on the God of Jacob\\nWhose love en...</td>\n",
       "    </tr>\n",
       "    <tr>\n",
       "      <th>1</th>\n",
       "      <td>Imagine Dragons</td>\n",
       "      <td>You leapt from crumbling bridges watching city...</td>\n",
       "    </tr>\n",
       "    <tr>\n",
       "      <th>2</th>\n",
       "      <td>Imagine Dragons</td>\n",
       "      <td>Load up on guns, bring your friends\\nIt's fun ...</td>\n",
       "    </tr>\n",
       "    <tr>\n",
       "      <th>3</th>\n",
       "      <td>Imagine Dragons</td>\n",
       "      <td>Love is just a history that they may prove\\nAn...</td>\n",
       "    </tr>\n",
       "    <tr>\n",
       "      <th>4</th>\n",
       "      <td>Imagine Dragons</td>\n",
       "      <td>Love is just a history that they may prove\\nAn...</td>\n",
       "    </tr>\n",
       "    <tr>\n",
       "      <th>...</th>\n",
       "      <td>...</td>\n",
       "      <td>...</td>\n",
       "    </tr>\n",
       "    <tr>\n",
       "      <th>95</th>\n",
       "      <td>Imagine Dragons</td>\n",
       "      <td>I'm still a fan even though I was salty\\nHate ...</td>\n",
       "    </tr>\n",
       "    <tr>\n",
       "      <th>96</th>\n",
       "      <td>Imagine Dragons</td>\n",
       "      <td>I am a little unstable\\nLoose wires always get...</td>\n",
       "    </tr>\n",
       "    <tr>\n",
       "      <th>97</th>\n",
       "      <td>Imagine Dragons</td>\n",
       "      <td>We were speeding together down the dark avenue...</td>\n",
       "    </tr>\n",
       "    <tr>\n",
       "      <th>98</th>\n",
       "      <td>Imagine Dragons</td>\n",
       "      <td>We were speeding together down the dark avenue...</td>\n",
       "    </tr>\n",
       "    <tr>\n",
       "      <th>99</th>\n",
       "      <td>Imagine Dragons</td>\n",
       "      <td>Load up on guns, bring your friends\\nIt's fun ...</td>\n",
       "    </tr>\n",
       "  </tbody>\n",
       "</table>\n",
       "<p>100 rows × 2 columns</p>\n",
       "</div>"
      ],
      "text/plain": [
       "             artist                                             lyrics\n",
       "0   Imagine Dragons  I'm calling on the God of Jacob\\nWhose love en...\n",
       "1   Imagine Dragons  You leapt from crumbling bridges watching city...\n",
       "2   Imagine Dragons  Load up on guns, bring your friends\\nIt's fun ...\n",
       "3   Imagine Dragons  Love is just a history that they may prove\\nAn...\n",
       "4   Imagine Dragons  Love is just a history that they may prove\\nAn...\n",
       "..              ...                                                ...\n",
       "95  Imagine Dragons  I'm still a fan even though I was salty\\nHate ...\n",
       "96  Imagine Dragons  I am a little unstable\\nLoose wires always get...\n",
       "97  Imagine Dragons  We were speeding together down the dark avenue...\n",
       "98  Imagine Dragons  We were speeding together down the dark avenue...\n",
       "99  Imagine Dragons  Load up on guns, bring your friends\\nIt's fun ...\n",
       "\n",
       "[100 rows x 2 columns]"
      ]
     },
     "execution_count": 38,
     "metadata": {},
     "output_type": "execute_result"
    }
   ],
   "source": [
    "data"
   ]
  },
  {
   "cell_type": "code",
   "execution_count": 43,
   "id": "c077f68f-3ced-4754-a185-fcd1171d5956",
   "metadata": {},
   "outputs": [
    {
     "data": {
      "text/plain": [
       "'Imagine Dragons'"
      ]
     },
     "execution_count": 43,
     "metadata": {},
     "output_type": "execute_result"
    }
   ],
   "source": [
    "artist= song_soup.body.find('strong').get_text()\n",
    "artist"
   ]
  },
  {
   "cell_type": "code",
   "execution_count": null,
   "id": "56f7a7c9-9e99-455a-8ad7-7ddb73364466",
   "metadata": {},
   "outputs": [],
   "source": []
  },
  {
   "cell_type": "code",
   "execution_count": 41,
   "id": "e314ba6d-6e6c-49ff-a5c2-980ca3c70c4a",
   "metadata": {},
   "outputs": [],
   "source": [
    "artists = song_soup.find_all('strong')"
   ]
  },
  {
   "cell_type": "code",
   "execution_count": 44,
   "id": "1eda5adf-386e-49c9-9a36-358a8191e0c8",
   "metadata": {},
   "outputs": [],
   "source": [
    "#find all artist\n",
    "#artists "
   ]
  },
  {
   "cell_type": "code",
   "execution_count": 69,
   "id": "ca6f38d8-91a3-44c5-acef-46f3c512f614",
   "metadata": {},
   "outputs": [],
   "source": [
    "f= song_soup.find('strong', text='Bob Marley')"
   ]
  },
  {
   "cell_type": "code",
   "execution_count": 70,
   "id": "9d9a57d7-e1ec-42e7-9a75-d2e50b0e2c1c",
   "metadata": {},
   "outputs": [],
   "source": [
    "song_soup.find('strong').find('a')\n",
    "\n"
   ]
  },
  {
   "cell_type": "raw",
   "id": "9a283c4f-d7a5-423d-8219-b74a6f4b6333",
   "metadata": {},
   "source": [
    "[t.text for t in song_soup.body.find_all('strong')#open text file contenaining html\n",
    "\n",
    "with open ('html_data/songs_html.txt') as file:\n",
    "\n",
    "    song_soup = BeautifulSoup(file, 'html.parser')\n",
    "\n",
    "]"
   ]
  },
  {
   "cell_type": "code",
   "execution_count": null,
   "id": "592ca8e3-c94a-4708-a85d-26077270e2b5",
   "metadata": {},
   "outputs": [],
   "source": [
    "#song_soup.body.find_all('strong')[0].text"
   ]
  },
  {
   "cell_type": "code",
   "execution_count": 1,
   "id": "a6316d0d-747b-4bb3-be07-2fc97d4d725d",
   "metadata": {},
   "outputs": [],
   "source": [
    "#print (test)\n"
   ]
  },
  {
   "cell_type": "code",
   "execution_count": 50,
   "id": "93e1fea3-ace6-404a-a8c0-ddca9900c277",
   "metadata": {},
   "outputs": [
    {
     "name": "stdout",
     "output_type": "stream",
     "text": [
      "None\n"
     ]
    }
   ],
   "source": []
  },
  {
   "cell_type": "markdown",
   "id": "d4db67be-729f-409e-afe5-2478580158f3",
   "metadata": {},
   "source": [
    "## Example - How to extract information from Webpage"
   ]
  },
  {
   "cell_type": "raw",
   "id": "d0020ab7-cc46-40f1-8220-5b3e53cbb17e",
   "metadata": {},
   "source": [
    "Web scraping = getting data from websites\n",
    "\n",
    "Requests allows us to send HTTP requests to website/servers. It sends back a response code, and the full html (if successful).\n"
   ]
  },
  {
   "cell_type": "code",
   "execution_count": 13,
   "id": "8bd69e59-1c04-4c1c-aa78-fca057b347f9",
   "metadata": {},
   "outputs": [],
   "source": [
    "URL = 'https://www.lyrics.com/lyric/34200587/Lana+Del+Rey/'"
   ]
  },
  {
   "cell_type": "raw",
   "id": "7e5d8792-e47a-4012-9e5b-6b4147e17616",
   "metadata": {},
   "source": [
    "Most web server try to detect and block web scraping attempts. To stay undetected you can try the following:\n",
    "\n",
    "    Set a real user agent and other header to appear legit (headers can be found Here:"
   ]
  },
  {
   "cell_type": "code",
   "execution_count": null,
   "id": "d64041d9-31c8-4180-8848-e7b472547f3e",
   "metadata": {},
   "outputs": [],
   "source": [
    "headers = {'User-agent': 'Mozilla/5.0 (X11; Linux i686; rv:2.0b10) Gecko/20100101 Firefox/4.0b10'}"
   ]
  },
  {
   "cell_type": "code",
   "execution_count": null,
   "id": "ea12678e-60b9-4c24-b02e-5fc01bfebc0d",
   "metadata": {},
   "outputs": [],
   "source": [
    "Use a sleep or waiting time between requests, a computer can be much faster than a human"
   ]
  },
  {
   "cell_type": "code",
   "execution_count": null,
   "id": "efa770ea-70a2-4f2d-85d6-03fd1d62d9d2",
   "metadata": {},
   "outputs": [],
   "source": [
    "import time\n",
    "import numpy as np"
   ]
  },
  {
   "cell_type": "code",
   "execution_count": null,
   "id": "8af34e2c-024c-4d79-9ee6-2a0f2ac1e0ca",
   "metadata": {},
   "outputs": [],
   "source": [
    "time.sleep(5)\n",
    "responses = requests.get(url=URL, headers=headers)"
   ]
  },
  {
   "cell_type": "code",
   "execution_count": null,
   "id": "649b9268-8b70-42a5-aa66-a5fbff28c0b1",
   "metadata": {},
   "outputs": [],
   "source": [
    "responses"
   ]
  },
  {
   "cell_type": "code",
   "execution_count": null,
   "id": "7dcb821d-b7e9-4bed-882b-6d4a50ebbca3",
   "metadata": {},
   "outputs": [],
   "source": [
    "response.status_code"
   ]
  },
  {
   "cell_type": "raw",
   "id": "a81edae8-2f48-4719-97d0-3298707ae941",
   "metadata": {},
   "source": [
    "    200-range: successful\n",
    "    300-range: redirect\n",
    "    400-range: there was a problem with the client's request\n",
    "    500-range: there was a problem on the end of the server"
   ]
  },
  {
   "cell_type": "raw",
   "id": "a05a3e5e-1087-4488-b7d2-d63c441e450d",
   "metadata": {},
   "source": [
    "HTML Introduction\n",
    "\n",
    "   - Each element consists of tags (opening tag and closing tag) and content.\n",
    "\n",
    "   - Some tags will have attributes which are like labels that are not displayed with \n",
    "    the content but can help distinguish between different types of the same tag.\n",
    "\n",
    "    Important for this week: a-tags.\n",
    "\n",
    "<a href=\n"
   ]
  },
  {
   "cell_type": "markdown",
   "id": "c777bf25-411e-4b76-8dd0-d6066cc85ad5",
   "metadata": {
    "tags": []
   },
   "source": [
    "# Writing/reading files in python"
   ]
  },
  {
   "cell_type": "raw",
   "id": "bb89c203-768b-4e67-b214-499dd7250ca1",
   "metadata": {},
   "source": [
    "## write and read in a file in python\n",
    " \n",
    "    \"w\"- write / create content to a file\n",
    "    \"r\" - read content from a file\n",
    "    \"a\"- append content to a file\n"
   ]
  },
  {
   "cell_type": "code",
   "execution_count": null,
   "id": "32175d56-37fb-4e16-8deb-8e849431c0eb",
   "metadata": {},
   "outputs": [],
   "source": [
    "# w: write creates a file if it doesn't exist or overwrites it if it does:"
   ]
  },
  {
   "cell_type": "code",
   "execution_count": null,
   "id": "0a5e3ba8-7a42-4037-a414-193e820576b2",
   "metadata": {},
   "outputs": [],
   "source": [
    "f = open('lana_html.txt', 'w')\n",
    "f.write(responses.text)\n",
    "f.close()\n"
   ]
  },
  {
   "cell_type": "code",
   "execution_count": null,
   "id": "49d9fa2c-d49f-45b7-aea8-022be7cb89cc",
   "metadata": {},
   "outputs": [],
   "source": [
    "# r: read only, you can read in a file and save it as a variable in your code or print it"
   ]
  },
  {
   "cell_type": "code",
   "execution_count": null,
   "id": "d979b094-7161-4ce0-8e7a-0de884af4c96",
   "metadata": {},
   "outputs": [],
   "source": [
    "f = open('lana_html.txt', 'r')\n",
    "lana_html_read = f.read()\n",
    "#print(Bob_html_read)\n",
    "f.close()"
   ]
  },
  {
   "cell_type": "code",
   "execution_count": null,
   "id": "45457978-f230-44ae-ad47-665b808dcbf5",
   "metadata": {},
   "outputs": [],
   "source": [
    "# a: append mode adds text to the end of a file without overwriting it."
   ]
  },
  {
   "cell_type": "markdown",
   "id": "24be73fd-d0b4-418f-93c1-fe32053007a3",
   "metadata": {},
   "source": [
    "f = open('lana_html.txt', 'a')\n",
    "f.write(\"\")\n",
    "f.close()\n"
   ]
  }
 ],
 "metadata": {
  "kernelspec": {
   "display_name": "Python 3 (ipykernel)",
   "language": "python",
   "name": "python3"
  },
  "language_info": {
   "codemirror_mode": {
    "name": "ipython",
    "version": 3
   },
   "file_extension": ".py",
   "mimetype": "text/x-python",
   "name": "python",
   "nbconvert_exporter": "python",
   "pygments_lexer": "ipython3",
   "version": "3.9.13"
  }
 },
 "nbformat": 4,
 "nbformat_minor": 5
}
