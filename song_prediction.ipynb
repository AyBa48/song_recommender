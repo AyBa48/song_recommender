{
 "cells": [
  {
   "cell_type": "code",
   "execution_count": 1,
   "id": "163d477c-bf7e-490b-ae16-12ff60b72ee4",
   "metadata": {},
   "outputs": [
    {
     "name": "stdout",
     "output_type": "stream",
     "text": [
      "cores available: 8 \n",
      "cores to be used: 6\n"
     ]
    }
   ],
   "source": [
    "# CPU USAGE\n",
    "\n",
    "import multiprocessing\n",
    "\n",
    "num_cores = multiprocessing.cpu_count()\n",
    "cores_you_need_to_be_free = 2\n",
    "cores_to_use = num_cores - cores_you_need_to_be_free\n",
    "print('cores available:', num_cores,\n",
    "      '\\ncores to be used:', cores_to_use\n",
    "     )"
   ]
  },
  {
   "cell_type": "markdown",
   "id": "ac5767db-e6f8-4f6c-b040-fe9a44f5380f",
   "metadata": {},
   "source": [
    "### Word Classification -- TfidfVectorizer"
   ]
  },
  {
   "cell_type": "code",
   "execution_count": 2,
   "id": "14df99d9-24c5-4a6d-a0a0-68d5aa81926c",
   "metadata": {},
   "outputs": [],
   "source": [
    "import pandas as pd"
   ]
  },
  {
   "cell_type": "code",
   "execution_count": 3,
   "id": "d4e2ad06-5dba-44db-a32c-3d23fa5622cc",
   "metadata": {},
   "outputs": [],
   "source": [
    "data = pd.read_csv('~/spiced/nigela-network-student-code/lyrics.csv')"
   ]
  },
  {
   "cell_type": "code",
   "execution_count": 4,
   "id": "b7f201c0-2cd3-4b59-8eaa-e4686f5e43e5",
   "metadata": {},
   "outputs": [],
   "source": [
    "from sklearn.feature_extraction.text import TfidfVectorizer\n",
    "from sklearn.pipeline import Pipeline\n",
    "import numpy as np\n",
    "from sklearn.linear_model import LogisticRegression\n",
    "from sklearn.model_selection import train_test_split\n",
    "from sklearn.naive_bayes import MultinomialNB\n",
    "from sklearn.model_selection import GridSearchCV"
   ]
  },
  {
   "cell_type": "code",
   "execution_count": 5,
   "id": "6ff44201-7c4e-425b-b2cb-bab1c8cbb8ee",
   "metadata": {},
   "outputs": [],
   "source": [
    "pipe = Pipeline ([\n",
    "    ('vectorizer', TfidfVectorizer(stop_words=\"english\")), # do tokenisation\n",
    "    ('model', GridSearchCV(MultinomialNB(), param_grid = ({'alpha': np.logspace(-4, 1)}), cv=5, scoring = 'accuracy'))  # model may be replace by Logistic Regression\n",
    "]\n",
    ")"
   ]
  },
  {
   "cell_type": "code",
   "execution_count": 6,
   "id": "a141200e-a4d7-41ba-a7fb-cb9451daa7e9",
   "metadata": {},
   "outputs": [],
   "source": [
    "## Define corpus and y"
   ]
  },
  {
   "cell_type": "code",
   "execution_count": 7,
   "id": "acd084de-9708-4041-a47f-3ee998beae4e",
   "metadata": {},
   "outputs": [],
   "source": [
    "corpus = data['lyrics']\n",
    "y = (['Linkin Park']* len(data.loc[data['artist'] == 'Linkin Park'])) + (['Bob Marley']* len(data.loc[data['artist'] == 'Bob Marley']))  + (['Imagine Dragons']* len(data.loc[data['artist']  == 'Imagine Dragons']))  "
   ]
  },
  {
   "cell_type": "code",
   "execution_count": 8,
   "id": "6abc8305-34e7-4e3f-8101-a6276aa130be",
   "metadata": {},
   "outputs": [],
   "source": [
    "#Split data"
   ]
  },
  {
   "cell_type": "code",
   "execution_count": 9,
   "id": "5064730e-e5bd-4189-a771-91e1d5fafca8",
   "metadata": {},
   "outputs": [],
   "source": [
    "X_train, X_test, y_train, y_test = train_test_split(corpus, y, random_state = 42)"
   ]
  },
  {
   "cell_type": "code",
   "execution_count": 10,
   "id": "2600349a-c9da-4fe3-9ce2-b185267418b3",
   "metadata": {},
   "outputs": [
    {
     "data": {
      "text/html": [
       "<style>#sk-container-id-1 {color: black;background-color: white;}#sk-container-id-1 pre{padding: 0;}#sk-container-id-1 div.sk-toggleable {background-color: white;}#sk-container-id-1 label.sk-toggleable__label {cursor: pointer;display: block;width: 100%;margin-bottom: 0;padding: 0.3em;box-sizing: border-box;text-align: center;}#sk-container-id-1 label.sk-toggleable__label-arrow:before {content: \"▸\";float: left;margin-right: 0.25em;color: #696969;}#sk-container-id-1 label.sk-toggleable__label-arrow:hover:before {color: black;}#sk-container-id-1 div.sk-estimator:hover label.sk-toggleable__label-arrow:before {color: black;}#sk-container-id-1 div.sk-toggleable__content {max-height: 0;max-width: 0;overflow: hidden;text-align: left;background-color: #f0f8ff;}#sk-container-id-1 div.sk-toggleable__content pre {margin: 0.2em;color: black;border-radius: 0.25em;background-color: #f0f8ff;}#sk-container-id-1 input.sk-toggleable__control:checked~div.sk-toggleable__content {max-height: 200px;max-width: 100%;overflow: auto;}#sk-container-id-1 input.sk-toggleable__control:checked~label.sk-toggleable__label-arrow:before {content: \"▾\";}#sk-container-id-1 div.sk-estimator input.sk-toggleable__control:checked~label.sk-toggleable__label {background-color: #d4ebff;}#sk-container-id-1 div.sk-label input.sk-toggleable__control:checked~label.sk-toggleable__label {background-color: #d4ebff;}#sk-container-id-1 input.sk-hidden--visually {border: 0;clip: rect(1px 1px 1px 1px);clip: rect(1px, 1px, 1px, 1px);height: 1px;margin: -1px;overflow: hidden;padding: 0;position: absolute;width: 1px;}#sk-container-id-1 div.sk-estimator {font-family: monospace;background-color: #f0f8ff;border: 1px dotted black;border-radius: 0.25em;box-sizing: border-box;margin-bottom: 0.5em;}#sk-container-id-1 div.sk-estimator:hover {background-color: #d4ebff;}#sk-container-id-1 div.sk-parallel-item::after {content: \"\";width: 100%;border-bottom: 1px solid gray;flex-grow: 1;}#sk-container-id-1 div.sk-label:hover label.sk-toggleable__label {background-color: #d4ebff;}#sk-container-id-1 div.sk-serial::before {content: \"\";position: absolute;border-left: 1px solid gray;box-sizing: border-box;top: 0;bottom: 0;left: 50%;z-index: 0;}#sk-container-id-1 div.sk-serial {display: flex;flex-direction: column;align-items: center;background-color: white;padding-right: 0.2em;padding-left: 0.2em;position: relative;}#sk-container-id-1 div.sk-item {position: relative;z-index: 1;}#sk-container-id-1 div.sk-parallel {display: flex;align-items: stretch;justify-content: center;background-color: white;position: relative;}#sk-container-id-1 div.sk-item::before, #sk-container-id-1 div.sk-parallel-item::before {content: \"\";position: absolute;border-left: 1px solid gray;box-sizing: border-box;top: 0;bottom: 0;left: 50%;z-index: -1;}#sk-container-id-1 div.sk-parallel-item {display: flex;flex-direction: column;z-index: 1;position: relative;background-color: white;}#sk-container-id-1 div.sk-parallel-item:first-child::after {align-self: flex-end;width: 50%;}#sk-container-id-1 div.sk-parallel-item:last-child::after {align-self: flex-start;width: 50%;}#sk-container-id-1 div.sk-parallel-item:only-child::after {width: 0;}#sk-container-id-1 div.sk-dashed-wrapped {border: 1px dashed gray;margin: 0 0.4em 0.5em 0.4em;box-sizing: border-box;padding-bottom: 0.4em;background-color: white;}#sk-container-id-1 div.sk-label label {font-family: monospace;font-weight: bold;display: inline-block;line-height: 1.2em;}#sk-container-id-1 div.sk-label-container {text-align: center;}#sk-container-id-1 div.sk-container {/* jupyter's `normalize.less` sets `[hidden] { display: none; }` but bootstrap.min.css set `[hidden] { display: none !important; }` so we also need the `!important` here to be able to override the default hidden behavior on the sphinx rendered scikit-learn.org. See: https://github.com/scikit-learn/scikit-learn/issues/21755 */display: inline-block !important;position: relative;}#sk-container-id-1 div.sk-text-repr-fallback {display: none;}</style><div id=\"sk-container-id-1\" class=\"sk-top-container\"><div class=\"sk-text-repr-fallback\"><pre>Pipeline(steps=[(&#x27;vectorizer&#x27;, TfidfVectorizer(stop_words=&#x27;english&#x27;)),\n",
       "                (&#x27;model&#x27;,\n",
       "                 GridSearchCV(cv=5, estimator=MultinomialNB(),\n",
       "                              param_grid={&#x27;alpha&#x27;: array([1.00000000e-04, 1.26485522e-04, 1.59985872e-04, 2.02358965e-04,\n",
       "       2.55954792e-04, 3.23745754e-04, 4.09491506e-04, 5.17947468e-04,\n",
       "       6.55128557e-04, 8.28642773e-04, 1.04811313e-03, 1.32571137e-03,\n",
       "       1.67683294e-03, 2.1209...\n",
       "       7.19685673e-02, 9.10298178e-02, 1.15139540e-01, 1.45634848e-01,\n",
       "       1.84206997e-01, 2.32995181e-01, 2.94705170e-01, 3.72759372e-01,\n",
       "       4.71486636e-01, 5.96362332e-01, 7.54312006e-01, 9.54095476e-01,\n",
       "       1.20679264e+00, 1.52641797e+00, 1.93069773e+00, 2.44205309e+00,\n",
       "       3.08884360e+00, 3.90693994e+00, 4.94171336e+00, 6.25055193e+00,\n",
       "       7.90604321e+00, 1.00000000e+01])},\n",
       "                              scoring=&#x27;accuracy&#x27;))])</pre><b>In a Jupyter environment, please rerun this cell to show the HTML representation or trust the notebook. <br />On GitHub, the HTML representation is unable to render, please try loading this page with nbviewer.org.</b></div><div class=\"sk-container\" hidden><div class=\"sk-item sk-dashed-wrapped\"><div class=\"sk-label-container\"><div class=\"sk-label sk-toggleable\"><input class=\"sk-toggleable__control sk-hidden--visually\" id=\"sk-estimator-id-1\" type=\"checkbox\" ><label for=\"sk-estimator-id-1\" class=\"sk-toggleable__label sk-toggleable__label-arrow\">Pipeline</label><div class=\"sk-toggleable__content\"><pre>Pipeline(steps=[(&#x27;vectorizer&#x27;, TfidfVectorizer(stop_words=&#x27;english&#x27;)),\n",
       "                (&#x27;model&#x27;,\n",
       "                 GridSearchCV(cv=5, estimator=MultinomialNB(),\n",
       "                              param_grid={&#x27;alpha&#x27;: array([1.00000000e-04, 1.26485522e-04, 1.59985872e-04, 2.02358965e-04,\n",
       "       2.55954792e-04, 3.23745754e-04, 4.09491506e-04, 5.17947468e-04,\n",
       "       6.55128557e-04, 8.28642773e-04, 1.04811313e-03, 1.32571137e-03,\n",
       "       1.67683294e-03, 2.1209...\n",
       "       7.19685673e-02, 9.10298178e-02, 1.15139540e-01, 1.45634848e-01,\n",
       "       1.84206997e-01, 2.32995181e-01, 2.94705170e-01, 3.72759372e-01,\n",
       "       4.71486636e-01, 5.96362332e-01, 7.54312006e-01, 9.54095476e-01,\n",
       "       1.20679264e+00, 1.52641797e+00, 1.93069773e+00, 2.44205309e+00,\n",
       "       3.08884360e+00, 3.90693994e+00, 4.94171336e+00, 6.25055193e+00,\n",
       "       7.90604321e+00, 1.00000000e+01])},\n",
       "                              scoring=&#x27;accuracy&#x27;))])</pre></div></div></div><div class=\"sk-serial\"><div class=\"sk-item\"><div class=\"sk-estimator sk-toggleable\"><input class=\"sk-toggleable__control sk-hidden--visually\" id=\"sk-estimator-id-2\" type=\"checkbox\" ><label for=\"sk-estimator-id-2\" class=\"sk-toggleable__label sk-toggleable__label-arrow\">TfidfVectorizer</label><div class=\"sk-toggleable__content\"><pre>TfidfVectorizer(stop_words=&#x27;english&#x27;)</pre></div></div></div><div class=\"sk-item sk-dashed-wrapped\"><div class=\"sk-label-container\"><div class=\"sk-label sk-toggleable\"><input class=\"sk-toggleable__control sk-hidden--visually\" id=\"sk-estimator-id-3\" type=\"checkbox\" ><label for=\"sk-estimator-id-3\" class=\"sk-toggleable__label sk-toggleable__label-arrow\">model: GridSearchCV</label><div class=\"sk-toggleable__content\"><pre>GridSearchCV(cv=5, estimator=MultinomialNB(),\n",
       "             param_grid={&#x27;alpha&#x27;: array([1.00000000e-04, 1.26485522e-04, 1.59985872e-04, 2.02358965e-04,\n",
       "       2.55954792e-04, 3.23745754e-04, 4.09491506e-04, 5.17947468e-04,\n",
       "       6.55128557e-04, 8.28642773e-04, 1.04811313e-03, 1.32571137e-03,\n",
       "       1.67683294e-03, 2.12095089e-03, 2.68269580e-03, 3.39322177e-03,\n",
       "       4.29193426e-03, 5.42867544e-03, 6.8664884...\n",
       "       7.19685673e-02, 9.10298178e-02, 1.15139540e-01, 1.45634848e-01,\n",
       "       1.84206997e-01, 2.32995181e-01, 2.94705170e-01, 3.72759372e-01,\n",
       "       4.71486636e-01, 5.96362332e-01, 7.54312006e-01, 9.54095476e-01,\n",
       "       1.20679264e+00, 1.52641797e+00, 1.93069773e+00, 2.44205309e+00,\n",
       "       3.08884360e+00, 3.90693994e+00, 4.94171336e+00, 6.25055193e+00,\n",
       "       7.90604321e+00, 1.00000000e+01])},\n",
       "             scoring=&#x27;accuracy&#x27;)</pre></div></div></div><div class=\"sk-parallel\"><div class=\"sk-parallel-item\"><div class=\"sk-item\"><div class=\"sk-label-container\"><div class=\"sk-label sk-toggleable\"><input class=\"sk-toggleable__control sk-hidden--visually\" id=\"sk-estimator-id-4\" type=\"checkbox\" ><label for=\"sk-estimator-id-4\" class=\"sk-toggleable__label sk-toggleable__label-arrow\">estimator: MultinomialNB</label><div class=\"sk-toggleable__content\"><pre>MultinomialNB()</pre></div></div></div><div class=\"sk-serial\"><div class=\"sk-item\"><div class=\"sk-estimator sk-toggleable\"><input class=\"sk-toggleable__control sk-hidden--visually\" id=\"sk-estimator-id-5\" type=\"checkbox\" ><label for=\"sk-estimator-id-5\" class=\"sk-toggleable__label sk-toggleable__label-arrow\">MultinomialNB</label><div class=\"sk-toggleable__content\"><pre>MultinomialNB()</pre></div></div></div></div></div></div></div></div></div></div></div></div>"
      ],
      "text/plain": [
       "Pipeline(steps=[('vectorizer', TfidfVectorizer(stop_words='english')),\n",
       "                ('model',\n",
       "                 GridSearchCV(cv=5, estimator=MultinomialNB(),\n",
       "                              param_grid={'alpha': array([1.00000000e-04, 1.26485522e-04, 1.59985872e-04, 2.02358965e-04,\n",
       "       2.55954792e-04, 3.23745754e-04, 4.09491506e-04, 5.17947468e-04,\n",
       "       6.55128557e-04, 8.28642773e-04, 1.04811313e-03, 1.32571137e-03,\n",
       "       1.67683294e-03, 2.1209...\n",
       "       7.19685673e-02, 9.10298178e-02, 1.15139540e-01, 1.45634848e-01,\n",
       "       1.84206997e-01, 2.32995181e-01, 2.94705170e-01, 3.72759372e-01,\n",
       "       4.71486636e-01, 5.96362332e-01, 7.54312006e-01, 9.54095476e-01,\n",
       "       1.20679264e+00, 1.52641797e+00, 1.93069773e+00, 2.44205309e+00,\n",
       "       3.08884360e+00, 3.90693994e+00, 4.94171336e+00, 6.25055193e+00,\n",
       "       7.90604321e+00, 1.00000000e+01])},\n",
       "                              scoring='accuracy'))])"
      ]
     },
     "execution_count": 10,
     "metadata": {},
     "output_type": "execute_result"
    }
   ],
   "source": [
    "pipe.fit(X_train, y_train)"
   ]
  },
  {
   "cell_type": "code",
   "execution_count": 11,
   "id": "6026767f-9a2d-47da-add4-3dcc1db5eeb4",
   "metadata": {},
   "outputs": [
    {
     "data": {
      "text/plain": [
       "0.9178082191780822"
      ]
     },
     "execution_count": 11,
     "metadata": {},
     "output_type": "execute_result"
    }
   ],
   "source": [
    "pipe.score(X_test, y_test)"
   ]
  },
  {
   "cell_type": "code",
   "execution_count": 12,
   "id": "f59535a9-d00e-465c-ab63-6ed708e1ae13",
   "metadata": {},
   "outputs": [],
   "source": [
    "#y_prediction = pipe.predict(X_pred)"
   ]
  },
  {
   "cell_type": "code",
   "execution_count": 13,
   "id": "ef2de3b3-0349-4621-9921-a4ee97c87f8b",
   "metadata": {},
   "outputs": [],
   "source": [
    "import pickle"
   ]
  },
  {
   "cell_type": "code",
   "execution_count": 14,
   "id": "a1ced82f-afb2-4804-9b67-291dbbd607c3",
   "metadata": {},
   "outputs": [],
   "source": [
    "with open('song_prediction.pkl', 'wb') as file:\n",
    "    pickle.dump(pipe, file)"
   ]
  },
  {
   "cell_type": "code",
   "execution_count": null,
   "id": "57e5969f-49c3-41c6-966f-eb875c2ad564",
   "metadata": {},
   "outputs": [],
   "source": []
  },
  {
   "cell_type": "code",
   "execution_count": null,
   "id": "9a0c6eb6-b8f0-42e8-beff-c497437266af",
   "metadata": {},
   "outputs": [],
   "source": []
  }
 ],
 "metadata": {
  "kernelspec": {
   "display_name": "Python 3 (ipykernel)",
   "language": "python",
   "name": "python3"
  },
  "language_info": {
   "codemirror_mode": {
    "name": "ipython",
    "version": 3
   },
   "file_extension": ".py",
   "mimetype": "text/x-python",
   "name": "python",
   "nbconvert_exporter": "python",
   "pygments_lexer": "ipython3",
   "version": "3.9.13"
  }
 },
 "nbformat": 4,
 "nbformat_minor": 5
}
